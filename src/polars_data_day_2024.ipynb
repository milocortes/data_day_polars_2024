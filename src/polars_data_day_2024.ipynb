{
 "cells": [
  {
   "cell_type": "markdown",
   "id": "546799f4-19fb-4c02-acb8-a3593d10ac4e",
   "metadata": {},
   "source": [
    "# Polars\n",
    "\n",
    "<img src=\"images/polars_github_banner.svg\" alt=\"Drawing\" style=\"width: 750px;\"/> \n",
    "\n",
    "<a href=\"https://colab.research.google.com/github/milocortes/diplomado_ciencia_datos_mide/blob/edicion-2024/notebooks/polars_mide_2024.ipynb\" target=\"_parent\"><img src=\"https://colab.research.google.com/assets/colab-badge.svg\" alt=\"Open In Colab\"/></a>\n"
   ]
  },
  {
   "cell_type": "markdown",
   "id": "20d297b1-8d63-404d-afa8-b5ef143d0fa2",
   "metadata": {},
   "source": [
    "* Pandas es lento e ineficiente al trabajar con datasets grandes.\n",
    "* Existen varias bibliotecas que atienden este problema. Una de ellas es **[Polars]()**.\n",
    "* **[Polars]()** es una biblioteca desarrollada en [Rust]() que integra las siguientes características por diseño:\n",
    "  * **Velocidad**\n",
    "    - Rust es un lenguaje de system programmig conocido por su desempeño y seguridad.\n",
    "  * **Paralelismo**\n",
    "    - Aprovecha arquitecturas multicore he implementa algoritmos paralelos de work stealing.\n",
    "  * **Eficiencia de memoria**\n",
    "    - Polars utiliza evaluaciones **lazy**, lo que significa que una operación no es realizada hasta que esta es necesitada.\n",
    "    - Las consultas pueden ser encadenadas y optimizadas antes de su ejecución, lo que se traduce en ejecuciones más eficientes de queries.\n",
    "  * **Almacenamiento eficiente de datos**\n",
    "    - Polar utiliza **Apache Arrow como modelo de almacenamiento en memoria**. Es decir, utiliza un formato columnar del almacenamiento de datos, lo cual resulta más eficiente que el tradicional almacenamiento basado en filas (como el utilizado por Pandas).\n",
    "  * **Fácil de usar**\n",
    "    - Polar soporta una sintaxis similar a SQL para la manipulación de datos, haciendo accesible su uso a un grupo grande de usuarios.\n",
    "    \n",
    "\n"
   ]
  },
  {
   "cell_type": "markdown",
   "id": "aa721fa8-a41d-42d1-9901-47ff77d9bdb1",
   "metadata": {},
   "source": [
    "## Instalación de Polars\n",
    "\n",
    "Polart utiliza las siguientes dependencias:\n",
    "\n",
    "| Paquete    | Descripción                                                                  |\n",
    "|:-----------|:-----------------------------------------------------------------------------|\n",
    "| all        | Install all optional dependencies (all of the following)                     |\n",
    "| pandas     | Install with Pandas for converting data to and from Pandas Dataframes/Series |\n",
    "| numpy      | Install with numpy for converting data to and from numpy arrays              |\n",
    "| pyarrow    | Reading data formats using PyArrow                                           |\n",
    "| fsspec     | Support for reading from remote file systems                                 |\n",
    "| connectorx | Support for reading from SQL databases                                       |\n",
    "| xlsx2csv   | Support for reading from Excel files                                         |\n",
    "| deltalake  | Support for reading from Delta Lake Tables                                   |\n",
    "| timezone   | Timezone support, only needed if are on Python<3.9 or you are on Windows     |\n",
    "\n",
    "\n",
    "Para instalar Polars con todas sus dependencias, ejecuta la instrucción:"
   ]
  },
  {
   "cell_type": "code",
   "execution_count": null,
   "id": "1f473369",
   "metadata": {},
   "outputs": [],
   "source": [
    "!pip install 'polars[all]'"
   ]
  },
  {
   "cell_type": "markdown",
   "id": "d693021d",
   "metadata": {},
   "source": [
    "Para instalar un subconjunto de dependencias, ejecuta:"
   ]
  },
  {
   "cell_type": "code",
   "execution_count": null,
   "id": "644bde4a",
   "metadata": {},
   "outputs": [],
   "source": [
    "!pip install 'polars[pandas,numpy]'"
   ]
  },
  {
   "cell_type": "markdown",
   "id": "cd385834",
   "metadata": {},
   "source": [
    "Para instalar Polars, en su versión base, ejecuta la siguiente instrucción:\n"
   ]
  },
  {
   "cell_type": "code",
   "execution_count": 1,
   "id": "641444a7-ec33-4e5b-9101-4a7b1ce901af",
   "metadata": {},
   "outputs": [
    {
     "name": "stdout",
     "output_type": "stream",
     "text": [
      "Requirement already satisfied: polars in /home/milo/anaconda3/lib/python3.11/site-packages (1.5.0)\r\n"
     ]
    }
   ],
   "source": [
    "!pip install polars"
   ]
  },
  {
   "cell_type": "markdown",
   "id": "6e5726dc",
   "metadata": {},
   "source": [
    ">Polars hace uso de operaciones SIMD para aprovechar el paralelismo de datos. Un avance significativo en el paralelismo SIMD ocurrió cuando se incorporó al conjunto de instrucciones de la arquitectura x86 la extensión Advanced Vector Extensions (AVX), la cual permitió un uso más eficiente de las operaciones a nivel CPU. Esta extensión fue implementada por primera vez por AMD e Intel en 2011. En procesadores anteriores a este año, no se encuentra incluida dicha extensión. Por su parte, la instrucción no se encuentra disponibles en arquitecturas ARM. En caso que utilices alguna arquitectura que no soporte operaciones AVX, necesitas instalar <code>polars-lts-cpu</code>. Este paquete puede ser descargado de PyPI con la instrucción <code>pip install polars-lts-cpu</code>"
   ]
  },
  {
   "cell_type": "markdown",
   "id": "06691665-a3b3-43af-9986-2a4f98188798",
   "metadata": {},
   "source": [
    "## Creación de <code>DataFrame</code> en Polars\n",
    "\n",
    "Al igual que en Pandas, podemos crear un <code>DataFrame</code> de Polars mediante un diccionario de Python:"
   ]
  },
  {
   "cell_type": "code",
   "execution_count": 2,
   "id": "d3847ef4-4a93-4318-829b-f97d6251b33e",
   "metadata": {},
   "outputs": [
    {
     "data": {
      "text/html": [
       "<div><style>\n",
       ".dataframe > thead > tr,\n",
       ".dataframe > tbody > tr {\n",
       "  text-align: right;\n",
       "  white-space: pre-wrap;\n",
       "}\n",
       "</style>\n",
       "<small>shape: (8, 6)</small><table border=\"1\" class=\"dataframe\"><thead><tr><th>Model</th><th>Year</th><th>Engine_Min</th><th>Engine_Max</th><th>AWD</th><th>Company</th></tr><tr><td>str</td><td>i64</td><td>f64</td><td>f64</td><td>bool</td><td>str</td></tr></thead><tbody><tr><td>&quot;Camry&quot;</td><td>1982</td><td>2.5</td><td>3.5</td><td>false</td><td>&quot;Toyota&quot;</td></tr><tr><td>&quot;Corolla&quot;</td><td>1966</td><td>1.8</td><td>2.0</td><td>false</td><td>&quot;Toyota&quot;</td></tr><tr><td>&quot;RAV4&quot;</td><td>1994</td><td>2.0</td><td>2.5</td><td>true</td><td>&quot;Toyota&quot;</td></tr><tr><td>&quot;Mustang&quot;</td><td>1964</td><td>2.3</td><td>5.0</td><td>false</td><td>&quot;Ford&quot;</td></tr><tr><td>&quot;F-150&quot;</td><td>1975</td><td>2.7</td><td>5.0</td><td>true</td><td>&quot;Ford&quot;</td></tr><tr><td>&quot;Escape&quot;</td><td>2000</td><td>1.5</td><td>2.5</td><td>true</td><td>&quot;Ford&quot;</td></tr><tr><td>&quot;Golf&quot;</td><td>1974</td><td>1.0</td><td>2.0</td><td>true</td><td>&quot;Volkswagen&quot;</td></tr><tr><td>&quot;Tiguan&quot;</td><td>2007</td><td>1.4</td><td>2.0</td><td>true</td><td>&quot;Volkswagen&quot;</td></tr></tbody></table></div>"
      ],
      "text/plain": [
       "shape: (8, 6)\n",
       "┌─────────┬──────┬────────────┬────────────┬───────┬────────────┐\n",
       "│ Model   ┆ Year ┆ Engine_Min ┆ Engine_Max ┆ AWD   ┆ Company    │\n",
       "│ ---     ┆ ---  ┆ ---        ┆ ---        ┆ ---   ┆ ---        │\n",
       "│ str     ┆ i64  ┆ f64        ┆ f64        ┆ bool  ┆ str        │\n",
       "╞═════════╪══════╪════════════╪════════════╪═══════╪════════════╡\n",
       "│ Camry   ┆ 1982 ┆ 2.5        ┆ 3.5        ┆ false ┆ Toyota     │\n",
       "│ Corolla ┆ 1966 ┆ 1.8        ┆ 2.0        ┆ false ┆ Toyota     │\n",
       "│ RAV4    ┆ 1994 ┆ 2.0        ┆ 2.5        ┆ true  ┆ Toyota     │\n",
       "│ Mustang ┆ 1964 ┆ 2.3        ┆ 5.0        ┆ false ┆ Ford       │\n",
       "│ F-150   ┆ 1975 ┆ 2.7        ┆ 5.0        ┆ true  ┆ Ford       │\n",
       "│ Escape  ┆ 2000 ┆ 1.5        ┆ 2.5        ┆ true  ┆ Ford       │\n",
       "│ Golf    ┆ 1974 ┆ 1.0        ┆ 2.0        ┆ true  ┆ Volkswagen │\n",
       "│ Tiguan  ┆ 2007 ┆ 1.4        ┆ 2.0        ┆ true  ┆ Volkswagen │\n",
       "└─────────┴──────┴────────────┴────────────┴───────┴────────────┘"
      ]
     },
     "execution_count": 2,
     "metadata": {},
     "output_type": "execute_result"
    }
   ],
   "source": [
    "import polars as pl\n",
    " \n",
    "df = pl.DataFrame(\n",
    "     {\n",
    "         'Model': ['Camry','Corolla','RAV4',\n",
    "                   'Mustang','F-150','Escape',\n",
    "                   'Golf','Tiguan'],\n",
    "         'Year': [1982,1966,1994,1964,1975,2000,1974,2007],   \n",
    "         'Engine_Min':[2.5,1.8,2.0,2.3,2.7,1.5,1.0,1.4],\n",
    "         'Engine_Max':[3.5,2.0,2.5,5.0,5.0,2.5,2.0,2.0],\n",
    "         'AWD':[False,False,True,False,True,True,True,True],\n",
    "         'Company': ['Toyota','Toyota','Toyota','Ford',\n",
    "                     'Ford','Ford','Volkswagen','Volkswagen'],\n",
    "     }\n",
    ")\n",
    "df"
   ]
  },
  {
   "cell_type": "markdown",
   "id": "5d931384-e0a4-4bfd-9151-0f4a10c8b4df",
   "metadata": {},
   "source": [
    "La salida es similar a un <code>DataFrame</code> de Pandas, a excepción que:\n",
    "* Los <code>DataFrame</code> en Polars no tienen un índice. Esta es una de las características detrás de la filosofía de diseño de Polars.\n",
    "* Se muestra el tipo de dato de cada columna.\n",
    "\n",
    "Si queremos saber el tipo de dato de cada columna del <code>DataFrame</code>, ejecutamos la instrucción:"
   ]
  },
  {
   "cell_type": "code",
   "execution_count": 3,
   "id": "8a9c09c3-c9bd-4717-823a-f59754279113",
   "metadata": {},
   "outputs": [
    {
     "data": {
      "text/plain": [
       "[String, Int64, Float64, Float64, Boolean, String]"
      ]
     },
     "execution_count": 3,
     "metadata": {},
     "output_type": "execute_result"
    }
   ],
   "source": [
    "df.dtypes"
   ]
  },
  {
   "cell_type": "markdown",
   "id": "06463038-8740-45eb-a75d-f643ecc2100a",
   "metadata": {},
   "source": [
    "La siguiente instrucción regresa el nombre de las columnas:"
   ]
  },
  {
   "cell_type": "code",
   "execution_count": 4,
   "id": "3da17e25-8843-4fdd-a432-e516173b978b",
   "metadata": {},
   "outputs": [
    {
     "data": {
      "text/plain": [
       "['Model', 'Year', 'Engine_Min', 'Engine_Max', 'AWD', 'Company']"
      ]
     },
     "execution_count": 4,
     "metadata": {},
     "output_type": "execute_result"
    }
   ],
   "source": [
    "df.columns "
   ]
  },
  {
   "cell_type": "markdown",
   "id": "90119365-faf5-453d-bce5-0da4b578f557",
   "metadata": {},
   "source": [
    "Si queremos obtener todas las filas del <code>DataFrame</code>, usamos el método <code>rows()</code> "
   ]
  },
  {
   "cell_type": "code",
   "execution_count": 5,
   "id": "eae80643-47fe-4453-bcac-46992cb940a1",
   "metadata": {},
   "outputs": [
    {
     "data": {
      "text/plain": [
       "[('Camry', 1982, 2.5, 3.5, False, 'Toyota'),\n",
       " ('Corolla', 1966, 1.8, 2.0, False, 'Toyota'),\n",
       " ('RAV4', 1994, 2.0, 2.5, True, 'Toyota'),\n",
       " ('Mustang', 1964, 2.3, 5.0, False, 'Ford'),\n",
       " ('F-150', 1975, 2.7, 5.0, True, 'Ford'),\n",
       " ('Escape', 2000, 1.5, 2.5, True, 'Ford'),\n",
       " ('Golf', 1974, 1.0, 2.0, True, 'Volkswagen'),\n",
       " ('Tiguan', 2007, 1.4, 2.0, True, 'Volkswagen')]"
      ]
     },
     "execution_count": 5,
     "metadata": {},
     "output_type": "execute_result"
    }
   ],
   "source": [
    "df.rows()"
   ]
  },
  {
   "cell_type": "markdown",
   "id": "d9b45040-a2dc-4a2b-a199-bbf3b570db5a",
   "metadata": {},
   "source": [
    "Dicha instrucción nos regresa todas las filas como una lista de tuplas:"
   ]
  },
  {
   "cell_type": "code",
   "execution_count": 6,
   "id": "669bc0fe-400e-449f-a5a3-73743b15a28f",
   "metadata": {},
   "outputs": [
    {
     "data": {
      "text/plain": [
       "[('Camry', 1982, 2.5, 3.5, False, 'Toyota'),\n",
       " ('Corolla', 1966, 1.8, 2.0, False, 'Toyota'),\n",
       " ('RAV4', 1994, 2.0, 2.5, True, 'Toyota'),\n",
       " ('Mustang', 1964, 2.3, 5.0, False, 'Ford'),\n",
       " ('F-150', 1975, 2.7, 5.0, True, 'Ford'),\n",
       " ('Escape', 2000, 1.5, 2.5, True, 'Ford'),\n",
       " ('Golf', 1974, 1.0, 2.0, True, 'Volkswagen'),\n",
       " ('Tiguan', 2007, 1.4, 2.0, True, 'Volkswagen')]"
      ]
     },
     "execution_count": 6,
     "metadata": {},
     "output_type": "execute_result"
    }
   ],
   "source": [
    "[('Camry', 1982, 2.5, 3.5, False, 'Toyota'),\n",
    " ('Corolla', 1966, 1.8, 2.0, False, 'Toyota'),\n",
    " ('RAV4', 1994, 2.0, 2.5, True, 'Toyota'),\n",
    " ('Mustang', 1964, 2.3, 5.0, False, 'Ford'),\n",
    " ('F-150', 1975, 2.7, 5.0, True, 'Ford'),\n",
    " ('Escape', 2000, 1.5, 2.5, True, 'Ford'),\n",
    " ('Golf', 1974, 1.0, 2.0, True, 'Volkswagen'),\n",
    " ('Tiguan', 2007, 1.4, 2.0, True, 'Volkswagen')]"
   ]
  },
  {
   "cell_type": "markdown",
   "id": "5280ac46-63ea-43fb-b7fc-8c0f6fbb1f0e",
   "metadata": {},
   "source": [
    "Con el <code>DataFrame</code> cargado, lo manipularemos para seleccionar partes de este."
   ]
  },
  {
   "cell_type": "markdown",
   "id": "de42aa84-4680-4716-bc0a-f698ab4f05f6",
   "metadata": {},
   "source": [
    "## Selección de columnas\n",
    "\n",
    "Para seleccionar una columna particular en el dataframe, usamos el método <code>select()</code>:"
   ]
  },
  {
   "cell_type": "code",
   "execution_count": 7,
   "id": "f1ade89e-a87f-4e36-aa76-42e574ac41ca",
   "metadata": {},
   "outputs": [
    {
     "data": {
      "text/html": [
       "<div><style>\n",
       ".dataframe > thead > tr,\n",
       ".dataframe > tbody > tr {\n",
       "  text-align: right;\n",
       "  white-space: pre-wrap;\n",
       "}\n",
       "</style>\n",
       "<small>shape: (8, 1)</small><table border=\"1\" class=\"dataframe\"><thead><tr><th>Model</th></tr><tr><td>str</td></tr></thead><tbody><tr><td>&quot;Camry&quot;</td></tr><tr><td>&quot;Corolla&quot;</td></tr><tr><td>&quot;RAV4&quot;</td></tr><tr><td>&quot;Mustang&quot;</td></tr><tr><td>&quot;F-150&quot;</td></tr><tr><td>&quot;Escape&quot;</td></tr><tr><td>&quot;Golf&quot;</td></tr><tr><td>&quot;Tiguan&quot;</td></tr></tbody></table></div>"
      ],
      "text/plain": [
       "shape: (8, 1)\n",
       "┌─────────┐\n",
       "│ Model   │\n",
       "│ ---     │\n",
       "│ str     │\n",
       "╞═════════╡\n",
       "│ Camry   │\n",
       "│ Corolla │\n",
       "│ RAV4    │\n",
       "│ Mustang │\n",
       "│ F-150   │\n",
       "│ Escape  │\n",
       "│ Golf    │\n",
       "│ Tiguan  │\n",
       "└─────────┘"
      ]
     },
     "execution_count": 7,
     "metadata": {},
     "output_type": "execute_result"
    }
   ],
   "source": [
    "df.select(\n",
    "    \"Model\"\n",
    ")\n"
   ]
  },
  {
   "cell_type": "markdown",
   "id": "fd410fff-baa7-41ca-a835-bce78eccda27",
   "metadata": {},
   "source": [
    "Podríamos el estilo Pandas de selección de columnas <code>df[\"Model\"]</code> y funcionaría en Polars. Sin embargo, en la documentación de Polars se considera un anti-patrón de diseño. De manera que es posible que este estilo de selección sea removido de Polars en futuras versiones.\n",
    "\n",
    "Si se desea obtener más de una columna, pasamos como argumento una lista con los nombres de las columnas: "
   ]
  },
  {
   "cell_type": "code",
   "execution_count": 8,
   "id": "e8561dd7-be5f-4282-aaca-3b442c511ed7",
   "metadata": {},
   "outputs": [
    {
     "data": {
      "text/html": [
       "<div><style>\n",
       ".dataframe > thead > tr,\n",
       ".dataframe > tbody > tr {\n",
       "  text-align: right;\n",
       "  white-space: pre-wrap;\n",
       "}\n",
       "</style>\n",
       "<small>shape: (8, 2)</small><table border=\"1\" class=\"dataframe\"><thead><tr><th>Model</th><th>Company</th></tr><tr><td>str</td><td>str</td></tr></thead><tbody><tr><td>&quot;Camry&quot;</td><td>&quot;Toyota&quot;</td></tr><tr><td>&quot;Corolla&quot;</td><td>&quot;Toyota&quot;</td></tr><tr><td>&quot;RAV4&quot;</td><td>&quot;Toyota&quot;</td></tr><tr><td>&quot;Mustang&quot;</td><td>&quot;Ford&quot;</td></tr><tr><td>&quot;F-150&quot;</td><td>&quot;Ford&quot;</td></tr><tr><td>&quot;Escape&quot;</td><td>&quot;Ford&quot;</td></tr><tr><td>&quot;Golf&quot;</td><td>&quot;Volkswagen&quot;</td></tr><tr><td>&quot;Tiguan&quot;</td><td>&quot;Volkswagen&quot;</td></tr></tbody></table></div>"
      ],
      "text/plain": [
       "shape: (8, 2)\n",
       "┌─────────┬────────────┐\n",
       "│ Model   ┆ Company    │\n",
       "│ ---     ┆ ---        │\n",
       "│ str     ┆ str        │\n",
       "╞═════════╪════════════╡\n",
       "│ Camry   ┆ Toyota     │\n",
       "│ Corolla ┆ Toyota     │\n",
       "│ RAV4    ┆ Toyota     │\n",
       "│ Mustang ┆ Ford       │\n",
       "│ F-150   ┆ Ford       │\n",
       "│ Escape  ┆ Ford       │\n",
       "│ Golf    ┆ Volkswagen │\n",
       "│ Tiguan  ┆ Volkswagen │\n",
       "└─────────┴────────────┘"
      ]
     },
     "execution_count": 8,
     "metadata": {},
     "output_type": "execute_result"
    }
   ],
   "source": [
    "df.select(\n",
    "    [\"Model\", \"Company\"]\n",
    ")"
   ]
  },
  {
   "cell_type": "markdown",
   "id": "9c159fb3-fed6-49f2-b1f1-6311df7a4971",
   "metadata": {},
   "source": [
    "Si se requiere obtener todas las columnas de tipo string (esto es, de tipo <code>pl.Utf8</code>) del dataframe, podemos utilizar una **expresión** dentro del método <code>select()</code> "
   ]
  },
  {
   "cell_type": "code",
   "execution_count": 9,
   "id": "d9bdf588-4122-4918-a290-0e7ba410c936",
   "metadata": {},
   "outputs": [
    {
     "data": {
      "text/html": [
       "<div><style>\n",
       ".dataframe > thead > tr,\n",
       ".dataframe > tbody > tr {\n",
       "  text-align: right;\n",
       "  white-space: pre-wrap;\n",
       "}\n",
       "</style>\n",
       "<small>shape: (8, 2)</small><table border=\"1\" class=\"dataframe\"><thead><tr><th>Model</th><th>Company</th></tr><tr><td>str</td><td>str</td></tr></thead><tbody><tr><td>&quot;Camry&quot;</td><td>&quot;Toyota&quot;</td></tr><tr><td>&quot;Corolla&quot;</td><td>&quot;Toyota&quot;</td></tr><tr><td>&quot;RAV4&quot;</td><td>&quot;Toyota&quot;</td></tr><tr><td>&quot;Mustang&quot;</td><td>&quot;Ford&quot;</td></tr><tr><td>&quot;F-150&quot;</td><td>&quot;Ford&quot;</td></tr><tr><td>&quot;Escape&quot;</td><td>&quot;Ford&quot;</td></tr><tr><td>&quot;Golf&quot;</td><td>&quot;Volkswagen&quot;</td></tr><tr><td>&quot;Tiguan&quot;</td><td>&quot;Volkswagen&quot;</td></tr></tbody></table></div>"
      ],
      "text/plain": [
       "shape: (8, 2)\n",
       "┌─────────┬────────────┐\n",
       "│ Model   ┆ Company    │\n",
       "│ ---     ┆ ---        │\n",
       "│ str     ┆ str        │\n",
       "╞═════════╪════════════╡\n",
       "│ Camry   ┆ Toyota     │\n",
       "│ Corolla ┆ Toyota     │\n",
       "│ RAV4    ┆ Toyota     │\n",
       "│ Mustang ┆ Ford       │\n",
       "│ F-150   ┆ Ford       │\n",
       "│ Escape  ┆ Ford       │\n",
       "│ Golf    ┆ Volkswagen │\n",
       "│ Tiguan  ┆ Volkswagen │\n",
       "└─────────┴────────────┘"
      ]
     },
     "execution_count": 9,
     "metadata": {},
     "output_type": "execute_result"
    }
   ],
   "source": [
    "df.select(\n",
    "    pl.col(pl.Utf8)\n",
    ")"
   ]
  },
  {
   "cell_type": "markdown",
   "id": "66eb030a-0304-4df2-beea-d49508d8ecc3",
   "metadata": {},
   "source": [
    "> La instrucción <code>pl.col(pl.Utf8)</code> es conocida como una **expresión** en Polars. Esta expresión puede interpretarse como \"dame todas las columnas cuyo tipo de dato es <code>Utf8</code>\".\n",
    "> En términos más generales, las **expresiones** son construidas mediante **metaprogramación**. La **metaprogramación** es una técnica para la creación de código que crea código. La **metaprogramación** permite agregar funcionalidades adicionales a la sintaxis básica del lenguaje de programación, lo que es conocido como Domain Specific Language (DSL). En Rust, la **metaprogramación** es ampliamente usada. "
   ]
  },
  {
   "cell_type": "markdown",
   "id": "c09f52b2-0903-4934-bd72-170d953505a0",
   "metadata": {},
   "source": [
    "Las expresiones son muy poderosas en Polars. Por ejemplo, podemos encadenar múltiples expresiones:"
   ]
  },
  {
   "cell_type": "code",
   "execution_count": 10,
   "id": "9a266641-5fbc-4bd5-bede-f25d54cf7557",
   "metadata": {},
   "outputs": [
    {
     "data": {
      "text/html": [
       "<div><style>\n",
       ".dataframe > thead > tr,\n",
       ".dataframe > tbody > tr {\n",
       "  text-align: right;\n",
       "  white-space: pre-wrap;\n",
       "}\n",
       "</style>\n",
       "<small>shape: (8, 3)</small><table border=\"1\" class=\"dataframe\"><thead><tr><th>Year</th><th>Model</th><th>Engine_Max</th></tr><tr><td>i64</td><td>str</td><td>f64</td></tr></thead><tbody><tr><td>2007</td><td>&quot;Tiguan&quot;</td><td>2.0</td></tr><tr><td>1974</td><td>&quot;Golf&quot;</td><td>2.0</td></tr><tr><td>1966</td><td>&quot;Corolla&quot;</td><td>2.0</td></tr><tr><td>2000</td><td>&quot;Escape&quot;</td><td>2.5</td></tr><tr><td>1994</td><td>&quot;RAV4&quot;</td><td>2.5</td></tr><tr><td>1982</td><td>&quot;Camry&quot;</td><td>3.5</td></tr><tr><td>1975</td><td>&quot;F-150&quot;</td><td>5.0</td></tr><tr><td>1964</td><td>&quot;Mustang&quot;</td><td>5.0</td></tr></tbody></table></div>"
      ],
      "text/plain": [
       "shape: (8, 3)\n",
       "┌──────┬─────────┬────────────┐\n",
       "│ Year ┆ Model   ┆ Engine_Max │\n",
       "│ ---  ┆ ---     ┆ ---        │\n",
       "│ i64  ┆ str     ┆ f64        │\n",
       "╞══════╪═════════╪════════════╡\n",
       "│ 2007 ┆ Tiguan  ┆ 2.0        │\n",
       "│ 1974 ┆ Golf    ┆ 2.0        │\n",
       "│ 1966 ┆ Corolla ┆ 2.0        │\n",
       "│ 2000 ┆ Escape  ┆ 2.5        │\n",
       "│ 1994 ┆ RAV4    ┆ 2.5        │\n",
       "│ 1982 ┆ Camry   ┆ 3.5        │\n",
       "│ 1975 ┆ F-150   ┆ 5.0        │\n",
       "│ 1964 ┆ Mustang ┆ 5.0        │\n",
       "└──────┴─────────┴────────────┘"
      ]
     },
     "execution_count": 10,
     "metadata": {},
     "output_type": "execute_result"
    }
   ],
   "source": [
    "df.select(\n",
    "    pl.col([\"Year\", \"Model\", \"Engine_Max\"])\n",
    "    .sort_by([\"Engine_Max\", \"Year\"], descending = [False,True])\n",
    ")"
   ]
  },
  {
   "cell_type": "markdown",
   "id": "479a6b53-0c83-4fb2-8b81-09dc6c8e6a88",
   "metadata": {},
   "source": [
    "Podemos agrupar múltiples expresiones en una lista. Por ejemplo, el siguiente bloque de código regresa las columnas de tipo string y adicionalmente la columna Year:"
   ]
  },
  {
   "cell_type": "code",
   "execution_count": 11,
   "id": "ecd297bc-7bae-4497-b4a2-dfd1f31f5a33",
   "metadata": {},
   "outputs": [
    {
     "data": {
      "text/html": [
       "<div><style>\n",
       ".dataframe > thead > tr,\n",
       ".dataframe > tbody > tr {\n",
       "  text-align: right;\n",
       "  white-space: pre-wrap;\n",
       "}\n",
       "</style>\n",
       "<small>shape: (8, 3)</small><table border=\"1\" class=\"dataframe\"><thead><tr><th>Model</th><th>Company</th><th>Year</th></tr><tr><td>str</td><td>str</td><td>i64</td></tr></thead><tbody><tr><td>&quot;Camry&quot;</td><td>&quot;Toyota&quot;</td><td>1982</td></tr><tr><td>&quot;Corolla&quot;</td><td>&quot;Toyota&quot;</td><td>1966</td></tr><tr><td>&quot;RAV4&quot;</td><td>&quot;Toyota&quot;</td><td>1994</td></tr><tr><td>&quot;Mustang&quot;</td><td>&quot;Ford&quot;</td><td>1964</td></tr><tr><td>&quot;F-150&quot;</td><td>&quot;Ford&quot;</td><td>1975</td></tr><tr><td>&quot;Escape&quot;</td><td>&quot;Ford&quot;</td><td>2000</td></tr><tr><td>&quot;Golf&quot;</td><td>&quot;Volkswagen&quot;</td><td>1974</td></tr><tr><td>&quot;Tiguan&quot;</td><td>&quot;Volkswagen&quot;</td><td>2007</td></tr></tbody></table></div>"
      ],
      "text/plain": [
       "shape: (8, 3)\n",
       "┌─────────┬────────────┬──────┐\n",
       "│ Model   ┆ Company    ┆ Year │\n",
       "│ ---     ┆ ---        ┆ ---  │\n",
       "│ str     ┆ str        ┆ i64  │\n",
       "╞═════════╪════════════╪══════╡\n",
       "│ Camry   ┆ Toyota     ┆ 1982 │\n",
       "│ Corolla ┆ Toyota     ┆ 1966 │\n",
       "│ RAV4    ┆ Toyota     ┆ 1994 │\n",
       "│ Mustang ┆ Ford       ┆ 1964 │\n",
       "│ F-150   ┆ Ford       ┆ 1975 │\n",
       "│ Escape  ┆ Ford       ┆ 2000 │\n",
       "│ Golf    ┆ Volkswagen ┆ 1974 │\n",
       "│ Tiguan  ┆ Volkswagen ┆ 2007 │\n",
       "└─────────┴────────────┴──────┘"
      ]
     },
     "execution_count": 11,
     "metadata": {},
     "output_type": "execute_result"
    }
   ],
   "source": [
    "df.select(\n",
    "    [pl.col(pl.Utf8), 'Year']\n",
    ")"
   ]
  },
  {
   "cell_type": "markdown",
   "id": "f8c3ca26-ebec-4097-9948-6c6736aecea9",
   "metadata": {},
   "source": [
    "## Selección de filas\n",
    "\n",
    "Si queremos obtener una fila particular en el <code>DataFrame</code> de Polars, podemos utilizar el método <code>row()</code> y pasar como argumento el número de la fila. Por ejemplo, la siguiente instrucción regresa la primer fila de la tabla:"
   ]
  },
  {
   "cell_type": "code",
   "execution_count": 12,
   "id": "5b6537ef-2fd0-4e09-a9fb-7f8ee22fcf42",
   "metadata": {},
   "outputs": [
    {
     "data": {
      "text/plain": [
       "('Camry', 1982, 2.5, 3.5, False, 'Toyota')"
      ]
     },
     "execution_count": 12,
     "metadata": {},
     "output_type": "execute_result"
    }
   ],
   "source": [
    "df.row(0)"
   ]
  },
  {
   "cell_type": "markdown",
   "id": "67d1c3ce-0f85-4b36-bf1f-7386c09e6e28",
   "metadata": {},
   "source": [
    "Si se desea obtener múltiples filas, podemos usar el estilo Pandas mediante el uso del método de indización por corchetes cuadrados:"
   ]
  },
  {
   "cell_type": "code",
   "execution_count": 13,
   "id": "5da54957-5086-48b7-95d4-68b4687a3371",
   "metadata": {},
   "outputs": [
    {
     "data": {
      "text/html": [
       "<div><style>\n",
       ".dataframe > thead > tr,\n",
       ".dataframe > tbody > tr {\n",
       "  text-align: right;\n",
       "  white-space: pre-wrap;\n",
       "}\n",
       "</style>\n",
       "<small>shape: (2, 6)</small><table border=\"1\" class=\"dataframe\"><thead><tr><th>Model</th><th>Year</th><th>Engine_Min</th><th>Engine_Max</th><th>AWD</th><th>Company</th></tr><tr><td>str</td><td>i64</td><td>f64</td><td>f64</td><td>bool</td><td>str</td></tr></thead><tbody><tr><td>&quot;Corolla&quot;</td><td>1966</td><td>1.8</td><td>2.0</td><td>false</td><td>&quot;Toyota&quot;</td></tr><tr><td>&quot;RAV4&quot;</td><td>1994</td><td>2.0</td><td>2.5</td><td>true</td><td>&quot;Toyota&quot;</td></tr></tbody></table></div>"
      ],
      "text/plain": [
       "shape: (2, 6)\n",
       "┌─────────┬──────┬────────────┬────────────┬───────┬─────────┐\n",
       "│ Model   ┆ Year ┆ Engine_Min ┆ Engine_Max ┆ AWD   ┆ Company │\n",
       "│ ---     ┆ ---  ┆ ---        ┆ ---        ┆ ---   ┆ ---     │\n",
       "│ str     ┆ i64  ┆ f64        ┆ f64        ┆ bool  ┆ str     │\n",
       "╞═════════╪══════╪════════════╪════════════╪═══════╪═════════╡\n",
       "│ Corolla ┆ 1966 ┆ 1.8        ┆ 2.0        ┆ false ┆ Toyota  │\n",
       "│ RAV4    ┆ 1994 ┆ 2.0        ┆ 2.5        ┆ true  ┆ Toyota  │\n",
       "└─────────┴──────┴────────────┴────────────┴───────┴─────────┘"
      ]
     },
     "execution_count": 13,
     "metadata": {},
     "output_type": "execute_result"
    }
   ],
   "source": [
    "df[1:3] # regresa la segunda hasta la cuarta fila "
   ]
  },
  {
   "cell_type": "markdown",
   "id": "08245795-8d0b-46be-9c05-53d8967b840d",
   "metadata": {},
   "source": [
    "> Esta forma de acceso a filas no es recomendado en Polars. La documentación de Polar alienta el uso de formás más explícitas de consulta y funciones para manipular los datos. Por lo general se las consultas a filas están basadas en ciertos criterios, en lugar del índice específico de estas. "
   ]
  },
  {
   "cell_type": "markdown",
   "id": "91889864-254d-4fc5-9a27-af83103c35fc",
   "metadata": {},
   "source": [
    "Para la selección de filas, Polars recomienda el uso del método <code>filter()</code>. Por ejemplo, si se desea seleccionar todas las filas de los autos de Toyota, utilizamos el método <code>filter()</code> con la siguiente expresión:"
   ]
  },
  {
   "cell_type": "code",
   "execution_count": 14,
   "id": "5a20e375-418c-49df-a180-5d42c23fb258",
   "metadata": {},
   "outputs": [
    {
     "data": {
      "text/html": [
       "<div><style>\n",
       ".dataframe > thead > tr,\n",
       ".dataframe > tbody > tr {\n",
       "  text-align: right;\n",
       "  white-space: pre-wrap;\n",
       "}\n",
       "</style>\n",
       "<small>shape: (3, 6)</small><table border=\"1\" class=\"dataframe\"><thead><tr><th>Model</th><th>Year</th><th>Engine_Min</th><th>Engine_Max</th><th>AWD</th><th>Company</th></tr><tr><td>str</td><td>i64</td><td>f64</td><td>f64</td><td>bool</td><td>str</td></tr></thead><tbody><tr><td>&quot;Camry&quot;</td><td>1982</td><td>2.5</td><td>3.5</td><td>false</td><td>&quot;Toyota&quot;</td></tr><tr><td>&quot;Corolla&quot;</td><td>1966</td><td>1.8</td><td>2.0</td><td>false</td><td>&quot;Toyota&quot;</td></tr><tr><td>&quot;RAV4&quot;</td><td>1994</td><td>2.0</td><td>2.5</td><td>true</td><td>&quot;Toyota&quot;</td></tr></tbody></table></div>"
      ],
      "text/plain": [
       "shape: (3, 6)\n",
       "┌─────────┬──────┬────────────┬────────────┬───────┬─────────┐\n",
       "│ Model   ┆ Year ┆ Engine_Min ┆ Engine_Max ┆ AWD   ┆ Company │\n",
       "│ ---     ┆ ---  ┆ ---        ┆ ---        ┆ ---   ┆ ---     │\n",
       "│ str     ┆ i64  ┆ f64        ┆ f64        ┆ bool  ┆ str     │\n",
       "╞═════════╪══════╪════════════╪════════════╪═══════╪═════════╡\n",
       "│ Camry   ┆ 1982 ┆ 2.5        ┆ 3.5        ┆ false ┆ Toyota  │\n",
       "│ Corolla ┆ 1966 ┆ 1.8        ┆ 2.0        ┆ false ┆ Toyota  │\n",
       "│ RAV4    ┆ 1994 ┆ 2.0        ┆ 2.5        ┆ true  ┆ Toyota  │\n",
       "└─────────┴──────┴────────────┴────────────┴───────┴─────────┘"
      ]
     },
     "execution_count": 14,
     "metadata": {},
     "output_type": "execute_result"
    }
   ],
   "source": [
    "df.filter(\n",
    "    pl.col(\"Company\")==\"Toyota\"\n",
    ")"
   ]
  },
  {
   "cell_type": "markdown",
   "id": "995bb747-d5ad-4788-8339-b77d0dff1b40",
   "metadata": {},
   "source": [
    "Podemos especificar múltiples condiciones usando operadores lógicos. La siguiente instrucción regresa todos los autos que son de Toyota o Ford:"
   ]
  },
  {
   "cell_type": "code",
   "execution_count": 15,
   "id": "d2b5ff2b-ec92-46ca-b40e-8c701566c830",
   "metadata": {},
   "outputs": [
    {
     "data": {
      "text/html": [
       "<div><style>\n",
       ".dataframe > thead > tr,\n",
       ".dataframe > tbody > tr {\n",
       "  text-align: right;\n",
       "  white-space: pre-wrap;\n",
       "}\n",
       "</style>\n",
       "<small>shape: (6, 6)</small><table border=\"1\" class=\"dataframe\"><thead><tr><th>Model</th><th>Year</th><th>Engine_Min</th><th>Engine_Max</th><th>AWD</th><th>Company</th></tr><tr><td>str</td><td>i64</td><td>f64</td><td>f64</td><td>bool</td><td>str</td></tr></thead><tbody><tr><td>&quot;Camry&quot;</td><td>1982</td><td>2.5</td><td>3.5</td><td>false</td><td>&quot;Toyota&quot;</td></tr><tr><td>&quot;Corolla&quot;</td><td>1966</td><td>1.8</td><td>2.0</td><td>false</td><td>&quot;Toyota&quot;</td></tr><tr><td>&quot;RAV4&quot;</td><td>1994</td><td>2.0</td><td>2.5</td><td>true</td><td>&quot;Toyota&quot;</td></tr><tr><td>&quot;Mustang&quot;</td><td>1964</td><td>2.3</td><td>5.0</td><td>false</td><td>&quot;Ford&quot;</td></tr><tr><td>&quot;F-150&quot;</td><td>1975</td><td>2.7</td><td>5.0</td><td>true</td><td>&quot;Ford&quot;</td></tr><tr><td>&quot;Escape&quot;</td><td>2000</td><td>1.5</td><td>2.5</td><td>true</td><td>&quot;Ford&quot;</td></tr></tbody></table></div>"
      ],
      "text/plain": [
       "shape: (6, 6)\n",
       "┌─────────┬──────┬────────────┬────────────┬───────┬─────────┐\n",
       "│ Model   ┆ Year ┆ Engine_Min ┆ Engine_Max ┆ AWD   ┆ Company │\n",
       "│ ---     ┆ ---  ┆ ---        ┆ ---        ┆ ---   ┆ ---     │\n",
       "│ str     ┆ i64  ┆ f64        ┆ f64        ┆ bool  ┆ str     │\n",
       "╞═════════╪══════╪════════════╪════════════╪═══════╪═════════╡\n",
       "│ Camry   ┆ 1982 ┆ 2.5        ┆ 3.5        ┆ false ┆ Toyota  │\n",
       "│ Corolla ┆ 1966 ┆ 1.8        ┆ 2.0        ┆ false ┆ Toyota  │\n",
       "│ RAV4    ┆ 1994 ┆ 2.0        ┆ 2.5        ┆ true  ┆ Toyota  │\n",
       "│ Mustang ┆ 1964 ┆ 2.3        ┆ 5.0        ┆ false ┆ Ford    │\n",
       "│ F-150   ┆ 1975 ┆ 2.7        ┆ 5.0        ┆ true  ┆ Ford    │\n",
       "│ Escape  ┆ 2000 ┆ 1.5        ┆ 2.5        ┆ true  ┆ Ford    │\n",
       "└─────────┴──────┴────────────┴────────────┴───────┴─────────┘"
      ]
     },
     "execution_count": 15,
     "metadata": {},
     "output_type": "execute_result"
    }
   ],
   "source": [
    "df.filter(\n",
    "    (pl.col(\"Company\")==\"Toyota\") |\n",
    "    (pl.col(\"Company\")==\"Ford\")\n",
    ")"
   ]
  },
  {
   "cell_type": "markdown",
   "id": "389caaf2-a669-498c-8150-0ae7ac7e1192",
   "metadata": {},
   "source": [
    "La siguiente instrucción regresa todos los autos de Toyota que salieron al mercado después de 1980:"
   ]
  },
  {
   "cell_type": "code",
   "execution_count": 16,
   "id": "6cf45e8a-7a50-41ff-8ea0-dde5ee4eb040",
   "metadata": {},
   "outputs": [
    {
     "data": {
      "text/html": [
       "<div><style>\n",
       ".dataframe > thead > tr,\n",
       ".dataframe > tbody > tr {\n",
       "  text-align: right;\n",
       "  white-space: pre-wrap;\n",
       "}\n",
       "</style>\n",
       "<small>shape: (2, 6)</small><table border=\"1\" class=\"dataframe\"><thead><tr><th>Model</th><th>Year</th><th>Engine_Min</th><th>Engine_Max</th><th>AWD</th><th>Company</th></tr><tr><td>str</td><td>i64</td><td>f64</td><td>f64</td><td>bool</td><td>str</td></tr></thead><tbody><tr><td>&quot;Camry&quot;</td><td>1982</td><td>2.5</td><td>3.5</td><td>false</td><td>&quot;Toyota&quot;</td></tr><tr><td>&quot;RAV4&quot;</td><td>1994</td><td>2.0</td><td>2.5</td><td>true</td><td>&quot;Toyota&quot;</td></tr></tbody></table></div>"
      ],
      "text/plain": [
       "shape: (2, 6)\n",
       "┌───────┬──────┬────────────┬────────────┬───────┬─────────┐\n",
       "│ Model ┆ Year ┆ Engine_Min ┆ Engine_Max ┆ AWD   ┆ Company │\n",
       "│ ---   ┆ ---  ┆ ---        ┆ ---        ┆ ---   ┆ ---     │\n",
       "│ str   ┆ i64  ┆ f64        ┆ f64        ┆ bool  ┆ str     │\n",
       "╞═══════╪══════╪════════════╪════════════╪═══════╪═════════╡\n",
       "│ Camry ┆ 1982 ┆ 2.5        ┆ 3.5        ┆ false ┆ Toyota  │\n",
       "│ RAV4  ┆ 1994 ┆ 2.0        ┆ 2.5        ┆ true  ┆ Toyota  │\n",
       "└───────┴──────┴────────────┴────────────┴───────┴─────────┘"
      ]
     },
     "execution_count": 16,
     "metadata": {},
     "output_type": "execute_result"
    }
   ],
   "source": [
    "df.filter(\n",
    "    (pl.col(\"Company\") == \"Toyota\") &\n",
    "    (pl.col(\"Year\") > 1980)\n",
    ")"
   ]
  },
  {
   "cell_type": "markdown",
   "id": "5d3f7ebc-2037-4325-ac39-4656469b715d",
   "metadata": {},
   "source": [
    "La siguiente instrucción regresa todos los autos menos los Toyota:"
   ]
  },
  {
   "cell_type": "code",
   "execution_count": 17,
   "id": "6511a8b5-002c-4ba7-822c-8fdc6faaebfc",
   "metadata": {},
   "outputs": [
    {
     "data": {
      "text/html": [
       "<div><style>\n",
       ".dataframe > thead > tr,\n",
       ".dataframe > tbody > tr {\n",
       "  text-align: right;\n",
       "  white-space: pre-wrap;\n",
       "}\n",
       "</style>\n",
       "<small>shape: (5, 6)</small><table border=\"1\" class=\"dataframe\"><thead><tr><th>Model</th><th>Year</th><th>Engine_Min</th><th>Engine_Max</th><th>AWD</th><th>Company</th></tr><tr><td>str</td><td>i64</td><td>f64</td><td>f64</td><td>bool</td><td>str</td></tr></thead><tbody><tr><td>&quot;Mustang&quot;</td><td>1964</td><td>2.3</td><td>5.0</td><td>false</td><td>&quot;Ford&quot;</td></tr><tr><td>&quot;F-150&quot;</td><td>1975</td><td>2.7</td><td>5.0</td><td>true</td><td>&quot;Ford&quot;</td></tr><tr><td>&quot;Escape&quot;</td><td>2000</td><td>1.5</td><td>2.5</td><td>true</td><td>&quot;Ford&quot;</td></tr><tr><td>&quot;Golf&quot;</td><td>1974</td><td>1.0</td><td>2.0</td><td>true</td><td>&quot;Volkswagen&quot;</td></tr><tr><td>&quot;Tiguan&quot;</td><td>2007</td><td>1.4</td><td>2.0</td><td>true</td><td>&quot;Volkswagen&quot;</td></tr></tbody></table></div>"
      ],
      "text/plain": [
       "shape: (5, 6)\n",
       "┌─────────┬──────┬────────────┬────────────┬───────┬────────────┐\n",
       "│ Model   ┆ Year ┆ Engine_Min ┆ Engine_Max ┆ AWD   ┆ Company    │\n",
       "│ ---     ┆ ---  ┆ ---        ┆ ---        ┆ ---   ┆ ---        │\n",
       "│ str     ┆ i64  ┆ f64        ┆ f64        ┆ bool  ┆ str        │\n",
       "╞═════════╪══════╪════════════╪════════════╪═══════╪════════════╡\n",
       "│ Mustang ┆ 1964 ┆ 2.3        ┆ 5.0        ┆ false ┆ Ford       │\n",
       "│ F-150   ┆ 1975 ┆ 2.7        ┆ 5.0        ┆ true  ┆ Ford       │\n",
       "│ Escape  ┆ 2000 ┆ 1.5        ┆ 2.5        ┆ true  ┆ Ford       │\n",
       "│ Golf    ┆ 1974 ┆ 1.0        ┆ 2.0        ┆ true  ┆ Volkswagen │\n",
       "│ Tiguan  ┆ 2007 ┆ 1.4        ┆ 2.0        ┆ true  ┆ Volkswagen │\n",
       "└─────────┴──────┴────────────┴────────────┴───────┴────────────┘"
      ]
     },
     "execution_count": 17,
     "metadata": {},
     "output_type": "execute_result"
    }
   ],
   "source": [
    "df.filter(\n",
    "    ~(pl.col(\"Company\") == \"Toyota\")\n",
    ")"
   ]
  },
  {
   "cell_type": "markdown",
   "id": "d29e8c75-b82c-4aec-a6b5-c7b40615a1df",
   "metadata": {},
   "source": [
    "## Selección de filas y columnas\n",
    "\n",
    "Ya que conocemos el uso de los métodos <code>select()</code> para seleccionar columnas y <code>filter()</code> para seleccionar filas en un <code>DataFrame</code> de Polars, veremos cómo podemos encadenar estos métodos para seleccionar filas y columnas específicas.\n",
    "\n",
    "Por ejemplo, si queremos conocer todos los modelos de Toyota, podemos encadenar los métodos <code>filter()</code> y <code>select()</code> de la siguiente manera:"
   ]
  },
  {
   "cell_type": "code",
   "execution_count": 18,
   "id": "5b9f9505-de08-4802-a8e0-6afd595d491e",
   "metadata": {},
   "outputs": [
    {
     "data": {
      "text/html": [
       "<div><style>\n",
       ".dataframe > thead > tr,\n",
       ".dataframe > tbody > tr {\n",
       "  text-align: right;\n",
       "  white-space: pre-wrap;\n",
       "}\n",
       "</style>\n",
       "<small>shape: (3, 1)</small><table border=\"1\" class=\"dataframe\"><thead><tr><th>Model</th></tr><tr><td>str</td></tr></thead><tbody><tr><td>&quot;Camry&quot;</td></tr><tr><td>&quot;Corolla&quot;</td></tr><tr><td>&quot;RAV4&quot;</td></tr></tbody></table></div>"
      ],
      "text/plain": [
       "shape: (3, 1)\n",
       "┌─────────┐\n",
       "│ Model   │\n",
       "│ ---     │\n",
       "│ str     │\n",
       "╞═════════╡\n",
       "│ Camry   │\n",
       "│ Corolla │\n",
       "│ RAV4    │\n",
       "└─────────┘"
      ]
     },
     "execution_count": 18,
     "metadata": {},
     "output_type": "execute_result"
    }
   ],
   "source": [
    "df.filter(\n",
    "    pl.col(\"Company\") == \"Toyota\"\n",
    ").select(\n",
    "    \"Model\"\n",
    ")"
   ]
  },
  {
   "cell_type": "markdown",
   "id": "56dae726-6c05-444e-8f35-71c1930c815d",
   "metadata": {},
   "source": [
    "Si queremos seleccionar múltiples columnas, agregamos en una lista los nombres de las columnas que necesitamos:"
   ]
  },
  {
   "cell_type": "code",
   "execution_count": 19,
   "id": "7a9646c3-1f8e-4782-859a-68f0f8b923b7",
   "metadata": {},
   "outputs": [
    {
     "data": {
      "text/html": [
       "<div><style>\n",
       ".dataframe > thead > tr,\n",
       ".dataframe > tbody > tr {\n",
       "  text-align: right;\n",
       "  white-space: pre-wrap;\n",
       "}\n",
       "</style>\n",
       "<small>shape: (3, 2)</small><table border=\"1\" class=\"dataframe\"><thead><tr><th>Model</th><th>Year</th></tr><tr><td>str</td><td>i64</td></tr></thead><tbody><tr><td>&quot;Camry&quot;</td><td>1982</td></tr><tr><td>&quot;Corolla&quot;</td><td>1966</td></tr><tr><td>&quot;RAV4&quot;</td><td>1994</td></tr></tbody></table></div>"
      ],
      "text/plain": [
       "shape: (3, 2)\n",
       "┌─────────┬──────┐\n",
       "│ Model   ┆ Year │\n",
       "│ ---     ┆ ---  │\n",
       "│ str     ┆ i64  │\n",
       "╞═════════╪══════╡\n",
       "│ Camry   ┆ 1982 │\n",
       "│ Corolla ┆ 1966 │\n",
       "│ RAV4    ┆ 1994 │\n",
       "└─────────┴──────┘"
      ]
     },
     "execution_count": 19,
     "metadata": {},
     "output_type": "execute_result"
    }
   ],
   "source": [
    "df.filter(\n",
    "    pl.col(\"Company\")==\"Toyota\"\n",
    ").select(\n",
    "    [\"Model\", \"Year\"]\n",
    ")"
   ]
  },
  {
   "cell_type": "markdown",
   "id": "8b98d93e-5b34-41bb-ad28-e40dfde1780e",
   "metadata": {},
   "source": [
    "En la siguente sección veremos cómo Polars utiliza la técnica de **lazy evaluation** para mejorar el desempeño en la manipulación de nuestro dataframe."
   ]
  },
  {
   "cell_type": "markdown",
   "id": "db14e5ea-6e84-411e-92ef-4fd14d371b82",
   "metadata": {},
   "source": [
    "## Lazy evaluation en Polars\n",
    "\n",
    "* Una de las características principales de Polars es el uso de **lazy evaluation**. \n",
    "\n",
    "* **Lazy evaluation** es una técnica que nos permite construi un plan de consultas que represente una secuencia de operaciones sin tener que ejecutarlas inmediatamente.\n",
    "* En su lugar, las operaciones son ejecutadas sólo cuando el resultado final es solicitado explícitamente.\n",
    "* Este enfoque es muy eficiente cuando trabajamos con conjuntos de datos grandes o con transformaciones de datos complejas dado que evitan cálculos innecesarios.\n",
    "\n",
    "Para entender por qué este enfoque es importante, realizaremos una comparación con Pandas.\n",
    "\n",
    "En Pandas usamos la función <code>read_csv()</code> para leer un archivo CSV en un <code>DataFrame</code> de Pandas\n",
    "\n",
    "El conjunto de datos usado corresponde a los retardos de vuelos del Departamento de Transporte de Estados Unidos. Los datos pueden obtenerse en la siguiente liga:\n",
    "\n",
    "[https://www.kaggle.com/datasets/usdot/flight-delays](https://www.kaggle.com/datasets/usdot/flight-delays)\n",
    "\n",
    "\n",
    "Usaremos el archivo CSV <code>flights.csv</code>"
   ]
  },
  {
   "cell_type": "code",
   "execution_count": 20,
   "id": "77b820d5-79ee-4657-891d-01b8b01a540d",
   "metadata": {},
   "outputs": [
    {
     "name": "stderr",
     "output_type": "stream",
     "text": [
      "/tmp/ipykernel_23822/3221465477.py:3: DtypeWarning: Columns (7,8) have mixed types. Specify dtype option on import or set low_memory=False.\n",
      "  df = pd.read_csv('../datos/flights.csv')\n"
     ]
    },
    {
     "data": {
      "text/html": [
       "<div>\n",
       "<style scoped>\n",
       "    .dataframe tbody tr th:only-of-type {\n",
       "        vertical-align: middle;\n",
       "    }\n",
       "\n",
       "    .dataframe tbody tr th {\n",
       "        vertical-align: top;\n",
       "    }\n",
       "\n",
       "    .dataframe thead th {\n",
       "        text-align: right;\n",
       "    }\n",
       "</style>\n",
       "<table border=\"1\" class=\"dataframe\">\n",
       "  <thead>\n",
       "    <tr style=\"text-align: right;\">\n",
       "      <th></th>\n",
       "      <th>YEAR</th>\n",
       "      <th>MONTH</th>\n",
       "      <th>DAY</th>\n",
       "      <th>DAY_OF_WEEK</th>\n",
       "      <th>AIRLINE</th>\n",
       "      <th>FLIGHT_NUMBER</th>\n",
       "      <th>TAIL_NUMBER</th>\n",
       "      <th>ORIGIN_AIRPORT</th>\n",
       "      <th>DESTINATION_AIRPORT</th>\n",
       "      <th>SCHEDULED_DEPARTURE</th>\n",
       "      <th>...</th>\n",
       "      <th>ARRIVAL_TIME</th>\n",
       "      <th>ARRIVAL_DELAY</th>\n",
       "      <th>DIVERTED</th>\n",
       "      <th>CANCELLED</th>\n",
       "      <th>CANCELLATION_REASON</th>\n",
       "      <th>AIR_SYSTEM_DELAY</th>\n",
       "      <th>SECURITY_DELAY</th>\n",
       "      <th>AIRLINE_DELAY</th>\n",
       "      <th>LATE_AIRCRAFT_DELAY</th>\n",
       "      <th>WEATHER_DELAY</th>\n",
       "    </tr>\n",
       "  </thead>\n",
       "  <tbody>\n",
       "    <tr>\n",
       "      <th>0</th>\n",
       "      <td>2015</td>\n",
       "      <td>1</td>\n",
       "      <td>1</td>\n",
       "      <td>4</td>\n",
       "      <td>AS</td>\n",
       "      <td>98</td>\n",
       "      <td>N407AS</td>\n",
       "      <td>ANC</td>\n",
       "      <td>SEA</td>\n",
       "      <td>5</td>\n",
       "      <td>...</td>\n",
       "      <td>408.0</td>\n",
       "      <td>-22.0</td>\n",
       "      <td>0</td>\n",
       "      <td>0</td>\n",
       "      <td>NaN</td>\n",
       "      <td>NaN</td>\n",
       "      <td>NaN</td>\n",
       "      <td>NaN</td>\n",
       "      <td>NaN</td>\n",
       "      <td>NaN</td>\n",
       "    </tr>\n",
       "    <tr>\n",
       "      <th>1</th>\n",
       "      <td>2015</td>\n",
       "      <td>1</td>\n",
       "      <td>1</td>\n",
       "      <td>4</td>\n",
       "      <td>AA</td>\n",
       "      <td>2336</td>\n",
       "      <td>N3KUAA</td>\n",
       "      <td>LAX</td>\n",
       "      <td>PBI</td>\n",
       "      <td>10</td>\n",
       "      <td>...</td>\n",
       "      <td>741.0</td>\n",
       "      <td>-9.0</td>\n",
       "      <td>0</td>\n",
       "      <td>0</td>\n",
       "      <td>NaN</td>\n",
       "      <td>NaN</td>\n",
       "      <td>NaN</td>\n",
       "      <td>NaN</td>\n",
       "      <td>NaN</td>\n",
       "      <td>NaN</td>\n",
       "    </tr>\n",
       "    <tr>\n",
       "      <th>2</th>\n",
       "      <td>2015</td>\n",
       "      <td>1</td>\n",
       "      <td>1</td>\n",
       "      <td>4</td>\n",
       "      <td>US</td>\n",
       "      <td>840</td>\n",
       "      <td>N171US</td>\n",
       "      <td>SFO</td>\n",
       "      <td>CLT</td>\n",
       "      <td>20</td>\n",
       "      <td>...</td>\n",
       "      <td>811.0</td>\n",
       "      <td>5.0</td>\n",
       "      <td>0</td>\n",
       "      <td>0</td>\n",
       "      <td>NaN</td>\n",
       "      <td>NaN</td>\n",
       "      <td>NaN</td>\n",
       "      <td>NaN</td>\n",
       "      <td>NaN</td>\n",
       "      <td>NaN</td>\n",
       "    </tr>\n",
       "    <tr>\n",
       "      <th>3</th>\n",
       "      <td>2015</td>\n",
       "      <td>1</td>\n",
       "      <td>1</td>\n",
       "      <td>4</td>\n",
       "      <td>AA</td>\n",
       "      <td>258</td>\n",
       "      <td>N3HYAA</td>\n",
       "      <td>LAX</td>\n",
       "      <td>MIA</td>\n",
       "      <td>20</td>\n",
       "      <td>...</td>\n",
       "      <td>756.0</td>\n",
       "      <td>-9.0</td>\n",
       "      <td>0</td>\n",
       "      <td>0</td>\n",
       "      <td>NaN</td>\n",
       "      <td>NaN</td>\n",
       "      <td>NaN</td>\n",
       "      <td>NaN</td>\n",
       "      <td>NaN</td>\n",
       "      <td>NaN</td>\n",
       "    </tr>\n",
       "    <tr>\n",
       "      <th>4</th>\n",
       "      <td>2015</td>\n",
       "      <td>1</td>\n",
       "      <td>1</td>\n",
       "      <td>4</td>\n",
       "      <td>AS</td>\n",
       "      <td>135</td>\n",
       "      <td>N527AS</td>\n",
       "      <td>SEA</td>\n",
       "      <td>ANC</td>\n",
       "      <td>25</td>\n",
       "      <td>...</td>\n",
       "      <td>259.0</td>\n",
       "      <td>-21.0</td>\n",
       "      <td>0</td>\n",
       "      <td>0</td>\n",
       "      <td>NaN</td>\n",
       "      <td>NaN</td>\n",
       "      <td>NaN</td>\n",
       "      <td>NaN</td>\n",
       "      <td>NaN</td>\n",
       "      <td>NaN</td>\n",
       "    </tr>\n",
       "    <tr>\n",
       "      <th>...</th>\n",
       "      <td>...</td>\n",
       "      <td>...</td>\n",
       "      <td>...</td>\n",
       "      <td>...</td>\n",
       "      <td>...</td>\n",
       "      <td>...</td>\n",
       "      <td>...</td>\n",
       "      <td>...</td>\n",
       "      <td>...</td>\n",
       "      <td>...</td>\n",
       "      <td>...</td>\n",
       "      <td>...</td>\n",
       "      <td>...</td>\n",
       "      <td>...</td>\n",
       "      <td>...</td>\n",
       "      <td>...</td>\n",
       "      <td>...</td>\n",
       "      <td>...</td>\n",
       "      <td>...</td>\n",
       "      <td>...</td>\n",
       "      <td>...</td>\n",
       "    </tr>\n",
       "    <tr>\n",
       "      <th>5819074</th>\n",
       "      <td>2015</td>\n",
       "      <td>12</td>\n",
       "      <td>31</td>\n",
       "      <td>4</td>\n",
       "      <td>B6</td>\n",
       "      <td>688</td>\n",
       "      <td>N657JB</td>\n",
       "      <td>LAX</td>\n",
       "      <td>BOS</td>\n",
       "      <td>2359</td>\n",
       "      <td>...</td>\n",
       "      <td>753.0</td>\n",
       "      <td>-26.0</td>\n",
       "      <td>0</td>\n",
       "      <td>0</td>\n",
       "      <td>NaN</td>\n",
       "      <td>NaN</td>\n",
       "      <td>NaN</td>\n",
       "      <td>NaN</td>\n",
       "      <td>NaN</td>\n",
       "      <td>NaN</td>\n",
       "    </tr>\n",
       "    <tr>\n",
       "      <th>5819075</th>\n",
       "      <td>2015</td>\n",
       "      <td>12</td>\n",
       "      <td>31</td>\n",
       "      <td>4</td>\n",
       "      <td>B6</td>\n",
       "      <td>745</td>\n",
       "      <td>N828JB</td>\n",
       "      <td>JFK</td>\n",
       "      <td>PSE</td>\n",
       "      <td>2359</td>\n",
       "      <td>...</td>\n",
       "      <td>430.0</td>\n",
       "      <td>-16.0</td>\n",
       "      <td>0</td>\n",
       "      <td>0</td>\n",
       "      <td>NaN</td>\n",
       "      <td>NaN</td>\n",
       "      <td>NaN</td>\n",
       "      <td>NaN</td>\n",
       "      <td>NaN</td>\n",
       "      <td>NaN</td>\n",
       "    </tr>\n",
       "    <tr>\n",
       "      <th>5819076</th>\n",
       "      <td>2015</td>\n",
       "      <td>12</td>\n",
       "      <td>31</td>\n",
       "      <td>4</td>\n",
       "      <td>B6</td>\n",
       "      <td>1503</td>\n",
       "      <td>N913JB</td>\n",
       "      <td>JFK</td>\n",
       "      <td>SJU</td>\n",
       "      <td>2359</td>\n",
       "      <td>...</td>\n",
       "      <td>432.0</td>\n",
       "      <td>-8.0</td>\n",
       "      <td>0</td>\n",
       "      <td>0</td>\n",
       "      <td>NaN</td>\n",
       "      <td>NaN</td>\n",
       "      <td>NaN</td>\n",
       "      <td>NaN</td>\n",
       "      <td>NaN</td>\n",
       "      <td>NaN</td>\n",
       "    </tr>\n",
       "    <tr>\n",
       "      <th>5819077</th>\n",
       "      <td>2015</td>\n",
       "      <td>12</td>\n",
       "      <td>31</td>\n",
       "      <td>4</td>\n",
       "      <td>B6</td>\n",
       "      <td>333</td>\n",
       "      <td>N527JB</td>\n",
       "      <td>MCO</td>\n",
       "      <td>SJU</td>\n",
       "      <td>2359</td>\n",
       "      <td>...</td>\n",
       "      <td>330.0</td>\n",
       "      <td>-10.0</td>\n",
       "      <td>0</td>\n",
       "      <td>0</td>\n",
       "      <td>NaN</td>\n",
       "      <td>NaN</td>\n",
       "      <td>NaN</td>\n",
       "      <td>NaN</td>\n",
       "      <td>NaN</td>\n",
       "      <td>NaN</td>\n",
       "    </tr>\n",
       "    <tr>\n",
       "      <th>5819078</th>\n",
       "      <td>2015</td>\n",
       "      <td>12</td>\n",
       "      <td>31</td>\n",
       "      <td>4</td>\n",
       "      <td>B6</td>\n",
       "      <td>839</td>\n",
       "      <td>N534JB</td>\n",
       "      <td>JFK</td>\n",
       "      <td>BQN</td>\n",
       "      <td>2359</td>\n",
       "      <td>...</td>\n",
       "      <td>442.0</td>\n",
       "      <td>2.0</td>\n",
       "      <td>0</td>\n",
       "      <td>0</td>\n",
       "      <td>NaN</td>\n",
       "      <td>NaN</td>\n",
       "      <td>NaN</td>\n",
       "      <td>NaN</td>\n",
       "      <td>NaN</td>\n",
       "      <td>NaN</td>\n",
       "    </tr>\n",
       "  </tbody>\n",
       "</table>\n",
       "<p>5819079 rows × 31 columns</p>\n",
       "</div>"
      ],
      "text/plain": [
       "         YEAR  MONTH  DAY  DAY_OF_WEEK AIRLINE  FLIGHT_NUMBER TAIL_NUMBER  \\\n",
       "0        2015      1    1            4      AS             98      N407AS   \n",
       "1        2015      1    1            4      AA           2336      N3KUAA   \n",
       "2        2015      1    1            4      US            840      N171US   \n",
       "3        2015      1    1            4      AA            258      N3HYAA   \n",
       "4        2015      1    1            4      AS            135      N527AS   \n",
       "...       ...    ...  ...          ...     ...            ...         ...   \n",
       "5819074  2015     12   31            4      B6            688      N657JB   \n",
       "5819075  2015     12   31            4      B6            745      N828JB   \n",
       "5819076  2015     12   31            4      B6           1503      N913JB   \n",
       "5819077  2015     12   31            4      B6            333      N527JB   \n",
       "5819078  2015     12   31            4      B6            839      N534JB   \n",
       "\n",
       "        ORIGIN_AIRPORT DESTINATION_AIRPORT  SCHEDULED_DEPARTURE  ...  \\\n",
       "0                  ANC                 SEA                    5  ...   \n",
       "1                  LAX                 PBI                   10  ...   \n",
       "2                  SFO                 CLT                   20  ...   \n",
       "3                  LAX                 MIA                   20  ...   \n",
       "4                  SEA                 ANC                   25  ...   \n",
       "...                ...                 ...                  ...  ...   \n",
       "5819074            LAX                 BOS                 2359  ...   \n",
       "5819075            JFK                 PSE                 2359  ...   \n",
       "5819076            JFK                 SJU                 2359  ...   \n",
       "5819077            MCO                 SJU                 2359  ...   \n",
       "5819078            JFK                 BQN                 2359  ...   \n",
       "\n",
       "         ARRIVAL_TIME  ARRIVAL_DELAY  DIVERTED  CANCELLED  \\\n",
       "0               408.0          -22.0         0          0   \n",
       "1               741.0           -9.0         0          0   \n",
       "2               811.0            5.0         0          0   \n",
       "3               756.0           -9.0         0          0   \n",
       "4               259.0          -21.0         0          0   \n",
       "...               ...            ...       ...        ...   \n",
       "5819074         753.0          -26.0         0          0   \n",
       "5819075         430.0          -16.0         0          0   \n",
       "5819076         432.0           -8.0         0          0   \n",
       "5819077         330.0          -10.0         0          0   \n",
       "5819078         442.0            2.0         0          0   \n",
       "\n",
       "         CANCELLATION_REASON  AIR_SYSTEM_DELAY  SECURITY_DELAY  AIRLINE_DELAY  \\\n",
       "0                        NaN               NaN             NaN            NaN   \n",
       "1                        NaN               NaN             NaN            NaN   \n",
       "2                        NaN               NaN             NaN            NaN   \n",
       "3                        NaN               NaN             NaN            NaN   \n",
       "4                        NaN               NaN             NaN            NaN   \n",
       "...                      ...               ...             ...            ...   \n",
       "5819074                  NaN               NaN             NaN            NaN   \n",
       "5819075                  NaN               NaN             NaN            NaN   \n",
       "5819076                  NaN               NaN             NaN            NaN   \n",
       "5819077                  NaN               NaN             NaN            NaN   \n",
       "5819078                  NaN               NaN             NaN            NaN   \n",
       "\n",
       "         LATE_AIRCRAFT_DELAY  WEATHER_DELAY  \n",
       "0                        NaN            NaN  \n",
       "1                        NaN            NaN  \n",
       "2                        NaN            NaN  \n",
       "3                        NaN            NaN  \n",
       "4                        NaN            NaN  \n",
       "...                      ...            ...  \n",
       "5819074                  NaN            NaN  \n",
       "5819075                  NaN            NaN  \n",
       "5819076                  NaN            NaN  \n",
       "5819077                  NaN            NaN  \n",
       "5819078                  NaN            NaN  \n",
       "\n",
       "[5819079 rows x 31 columns]"
      ]
     },
     "execution_count": 20,
     "metadata": {},
     "output_type": "execute_result"
    }
   ],
   "source": [
    "import pandas as pd\n",
    " \n",
    "df = pd.read_csv('../datos/flights.csv')\n",
    "df"
   ]
  },
  {
   "cell_type": "code",
   "execution_count": 21,
   "id": "4879bc7a",
   "metadata": {},
   "outputs": [
    {
     "name": "stdout",
     "output_type": "stream",
     "text": [
      "<class 'pandas.core.frame.DataFrame'>\n",
      "RangeIndex: 5819079 entries, 0 to 5819078\n",
      "Data columns (total 31 columns):\n",
      " #   Column               Dtype  \n",
      "---  ------               -----  \n",
      " 0   YEAR                 int64  \n",
      " 1   MONTH                int64  \n",
      " 2   DAY                  int64  \n",
      " 3   DAY_OF_WEEK          int64  \n",
      " 4   AIRLINE              object \n",
      " 5   FLIGHT_NUMBER        int64  \n",
      " 6   TAIL_NUMBER          object \n",
      " 7   ORIGIN_AIRPORT       object \n",
      " 8   DESTINATION_AIRPORT  object \n",
      " 9   SCHEDULED_DEPARTURE  int64  \n",
      " 10  DEPARTURE_TIME       float64\n",
      " 11  DEPARTURE_DELAY      float64\n",
      " 12  TAXI_OUT             float64\n",
      " 13  WHEELS_OFF           float64\n",
      " 14  SCHEDULED_TIME       float64\n",
      " 15  ELAPSED_TIME         float64\n",
      " 16  AIR_TIME             float64\n",
      " 17  DISTANCE             int64  \n",
      " 18  WHEELS_ON            float64\n",
      " 19  TAXI_IN              float64\n",
      " 20  SCHEDULED_ARRIVAL    int64  \n",
      " 21  ARRIVAL_TIME         float64\n",
      " 22  ARRIVAL_DELAY        float64\n",
      " 23  DIVERTED             int64  \n",
      " 24  CANCELLED            int64  \n",
      " 25  CANCELLATION_REASON  object \n",
      " 26  AIR_SYSTEM_DELAY     float64\n",
      " 27  SECURITY_DELAY       float64\n",
      " 28  AIRLINE_DELAY        float64\n",
      " 29  LATE_AIRCRAFT_DELAY  float64\n",
      " 30  WEATHER_DELAY        float64\n",
      "dtypes: float64(16), int64(10), object(5)\n",
      "memory usage: 2.6 GB\n"
     ]
    }
   ],
   "source": [
    "## Verificamos el uso de memoria del dataframe de Pandas\n",
    "df.info(memory_usage=\"deep\")\n"
   ]
  },
  {
   "cell_type": "markdown",
   "id": "053a83c3-9c83-42c4-8e25-1adc052b1d43",
   "metadata": {},
   "source": [
    "Si el archivo CSV es grande, gastaremos mucho tiempo (y memoria) en cargar todas las filas del archivo CSV en <code>DataFrame</code> de Pandas. El CSV cargado tiene más de 5.8 millones de filas y por lo tanto utiliza una cantidad significante de memoria al cargar el archivo CSV completo en memoria. \n",
    "\n",
    "Una operación típica en Pandas es cargar el archivo CSV en un <code>DataFrame</code> y posteriormente realizar una selección (filtrado) de filas de acuerdo a algún criterio:"
   ]
  },
  {
   "cell_type": "code",
   "execution_count": 22,
   "id": "0b12389b-38c9-488c-8178-723e0f3c8004",
   "metadata": {},
   "outputs": [
    {
     "name": "stderr",
     "output_type": "stream",
     "text": [
      "<timed exec>:1: DtypeWarning: Columns (7,8) have mixed types. Specify dtype option on import or set low_memory=False.\n"
     ]
    },
    {
     "name": "stdout",
     "output_type": "stream",
     "text": [
      "CPU times: user 5.68 s, sys: 1.33 s, total: 7.01 s\n",
      "Wall time: 6.99 s\n"
     ]
    },
    {
     "data": {
      "text/html": [
       "<div>\n",
       "<style scoped>\n",
       "    .dataframe tbody tr th:only-of-type {\n",
       "        vertical-align: middle;\n",
       "    }\n",
       "\n",
       "    .dataframe tbody tr th {\n",
       "        vertical-align: top;\n",
       "    }\n",
       "\n",
       "    .dataframe thead th {\n",
       "        text-align: right;\n",
       "    }\n",
       "</style>\n",
       "<table border=\"1\" class=\"dataframe\">\n",
       "  <thead>\n",
       "    <tr style=\"text-align: right;\">\n",
       "      <th></th>\n",
       "      <th>YEAR</th>\n",
       "      <th>MONTH</th>\n",
       "      <th>DAY</th>\n",
       "      <th>DAY_OF_WEEK</th>\n",
       "      <th>AIRLINE</th>\n",
       "      <th>FLIGHT_NUMBER</th>\n",
       "      <th>TAIL_NUMBER</th>\n",
       "      <th>ORIGIN_AIRPORT</th>\n",
       "      <th>DESTINATION_AIRPORT</th>\n",
       "      <th>SCHEDULED_DEPARTURE</th>\n",
       "      <th>...</th>\n",
       "      <th>ARRIVAL_TIME</th>\n",
       "      <th>ARRIVAL_DELAY</th>\n",
       "      <th>DIVERTED</th>\n",
       "      <th>CANCELLED</th>\n",
       "      <th>CANCELLATION_REASON</th>\n",
       "      <th>AIR_SYSTEM_DELAY</th>\n",
       "      <th>SECURITY_DELAY</th>\n",
       "      <th>AIRLINE_DELAY</th>\n",
       "      <th>LATE_AIRCRAFT_DELAY</th>\n",
       "      <th>WEATHER_DELAY</th>\n",
       "    </tr>\n",
       "  </thead>\n",
       "  <tbody>\n",
       "    <tr>\n",
       "      <th>1889439</th>\n",
       "      <td>2015</td>\n",
       "      <td>5</td>\n",
       "      <td>1</td>\n",
       "      <td>5</td>\n",
       "      <td>UA</td>\n",
       "      <td>273</td>\n",
       "      <td>N813UA</td>\n",
       "      <td>SFO</td>\n",
       "      <td>SEA</td>\n",
       "      <td>605</td>\n",
       "      <td>...</td>\n",
       "      <td>801.0</td>\n",
       "      <td>-15.0</td>\n",
       "      <td>0</td>\n",
       "      <td>0</td>\n",
       "      <td>NaN</td>\n",
       "      <td>NaN</td>\n",
       "      <td>NaN</td>\n",
       "      <td>NaN</td>\n",
       "      <td>NaN</td>\n",
       "      <td>NaN</td>\n",
       "    </tr>\n",
       "    <tr>\n",
       "      <th>1890316</th>\n",
       "      <td>2015</td>\n",
       "      <td>5</td>\n",
       "      <td>1</td>\n",
       "      <td>5</td>\n",
       "      <td>AS</td>\n",
       "      <td>313</td>\n",
       "      <td>N799AS</td>\n",
       "      <td>SFO</td>\n",
       "      <td>SEA</td>\n",
       "      <td>700</td>\n",
       "      <td>...</td>\n",
       "      <td>846.0</td>\n",
       "      <td>-19.0</td>\n",
       "      <td>0</td>\n",
       "      <td>0</td>\n",
       "      <td>NaN</td>\n",
       "      <td>NaN</td>\n",
       "      <td>NaN</td>\n",
       "      <td>NaN</td>\n",
       "      <td>NaN</td>\n",
       "      <td>NaN</td>\n",
       "    </tr>\n",
       "    <tr>\n",
       "      <th>1890814</th>\n",
       "      <td>2015</td>\n",
       "      <td>5</td>\n",
       "      <td>1</td>\n",
       "      <td>5</td>\n",
       "      <td>UA</td>\n",
       "      <td>278</td>\n",
       "      <td>N496UA</td>\n",
       "      <td>SFO</td>\n",
       "      <td>SEA</td>\n",
       "      <td>720</td>\n",
       "      <td>...</td>\n",
       "      <td>909.0</td>\n",
       "      <td>-21.0</td>\n",
       "      <td>0</td>\n",
       "      <td>0</td>\n",
       "      <td>NaN</td>\n",
       "      <td>NaN</td>\n",
       "      <td>NaN</td>\n",
       "      <td>NaN</td>\n",
       "      <td>NaN</td>\n",
       "      <td>NaN</td>\n",
       "    </tr>\n",
       "    <tr>\n",
       "      <th>1891034</th>\n",
       "      <td>2015</td>\n",
       "      <td>5</td>\n",
       "      <td>1</td>\n",
       "      <td>5</td>\n",
       "      <td>VX</td>\n",
       "      <td>740</td>\n",
       "      <td>N529VA</td>\n",
       "      <td>SFO</td>\n",
       "      <td>SEA</td>\n",
       "      <td>730</td>\n",
       "      <td>...</td>\n",
       "      <td>914.0</td>\n",
       "      <td>-16.0</td>\n",
       "      <td>0</td>\n",
       "      <td>0</td>\n",
       "      <td>NaN</td>\n",
       "      <td>NaN</td>\n",
       "      <td>NaN</td>\n",
       "      <td>NaN</td>\n",
       "      <td>NaN</td>\n",
       "      <td>NaN</td>\n",
       "    </tr>\n",
       "    <tr>\n",
       "      <th>1891540</th>\n",
       "      <td>2015</td>\n",
       "      <td>5</td>\n",
       "      <td>1</td>\n",
       "      <td>5</td>\n",
       "      <td>UA</td>\n",
       "      <td>1059</td>\n",
       "      <td>N76529</td>\n",
       "      <td>SFO</td>\n",
       "      <td>SEA</td>\n",
       "      <td>800</td>\n",
       "      <td>...</td>\n",
       "      <td>947.0</td>\n",
       "      <td>-21.0</td>\n",
       "      <td>0</td>\n",
       "      <td>0</td>\n",
       "      <td>NaN</td>\n",
       "      <td>NaN</td>\n",
       "      <td>NaN</td>\n",
       "      <td>NaN</td>\n",
       "      <td>NaN</td>\n",
       "      <td>NaN</td>\n",
       "    </tr>\n",
       "    <tr>\n",
       "      <th>...</th>\n",
       "      <td>...</td>\n",
       "      <td>...</td>\n",
       "      <td>...</td>\n",
       "      <td>...</td>\n",
       "      <td>...</td>\n",
       "      <td>...</td>\n",
       "      <td>...</td>\n",
       "      <td>...</td>\n",
       "      <td>...</td>\n",
       "      <td>...</td>\n",
       "      <td>...</td>\n",
       "      <td>...</td>\n",
       "      <td>...</td>\n",
       "      <td>...</td>\n",
       "      <td>...</td>\n",
       "      <td>...</td>\n",
       "      <td>...</td>\n",
       "      <td>...</td>\n",
       "      <td>...</td>\n",
       "      <td>...</td>\n",
       "      <td>...</td>\n",
       "    </tr>\n",
       "    <tr>\n",
       "      <th>2384278</th>\n",
       "      <td>2015</td>\n",
       "      <td>5</td>\n",
       "      <td>31</td>\n",
       "      <td>7</td>\n",
       "      <td>UA</td>\n",
       "      <td>1637</td>\n",
       "      <td>N38446</td>\n",
       "      <td>SFO</td>\n",
       "      <td>SEA</td>\n",
       "      <td>2035</td>\n",
       "      <td>...</td>\n",
       "      <td>31.0</td>\n",
       "      <td>106.0</td>\n",
       "      <td>0</td>\n",
       "      <td>0</td>\n",
       "      <td>NaN</td>\n",
       "      <td>0.0</td>\n",
       "      <td>0.0</td>\n",
       "      <td>52.0</td>\n",
       "      <td>54.0</td>\n",
       "      <td>0.0</td>\n",
       "    </tr>\n",
       "    <tr>\n",
       "      <th>2384346</th>\n",
       "      <td>2015</td>\n",
       "      <td>5</td>\n",
       "      <td>31</td>\n",
       "      <td>7</td>\n",
       "      <td>VX</td>\n",
       "      <td>752</td>\n",
       "      <td>N625VA</td>\n",
       "      <td>SFO</td>\n",
       "      <td>SEA</td>\n",
       "      <td>2045</td>\n",
       "      <td>...</td>\n",
       "      <td>2233.0</td>\n",
       "      <td>-12.0</td>\n",
       "      <td>0</td>\n",
       "      <td>0</td>\n",
       "      <td>NaN</td>\n",
       "      <td>NaN</td>\n",
       "      <td>NaN</td>\n",
       "      <td>NaN</td>\n",
       "      <td>NaN</td>\n",
       "      <td>NaN</td>\n",
       "    </tr>\n",
       "    <tr>\n",
       "      <th>2384847</th>\n",
       "      <td>2015</td>\n",
       "      <td>5</td>\n",
       "      <td>31</td>\n",
       "      <td>7</td>\n",
       "      <td>UA</td>\n",
       "      <td>1167</td>\n",
       "      <td>N14231</td>\n",
       "      <td>SFO</td>\n",
       "      <td>SEA</td>\n",
       "      <td>2135</td>\n",
       "      <td>...</td>\n",
       "      <td>2322.0</td>\n",
       "      <td>-19.0</td>\n",
       "      <td>0</td>\n",
       "      <td>0</td>\n",
       "      <td>NaN</td>\n",
       "      <td>NaN</td>\n",
       "      <td>NaN</td>\n",
       "      <td>NaN</td>\n",
       "      <td>NaN</td>\n",
       "      <td>NaN</td>\n",
       "    </tr>\n",
       "    <tr>\n",
       "      <th>2384912</th>\n",
       "      <td>2015</td>\n",
       "      <td>5</td>\n",
       "      <td>31</td>\n",
       "      <td>7</td>\n",
       "      <td>AS</td>\n",
       "      <td>317</td>\n",
       "      <td>N546AS</td>\n",
       "      <td>SFO</td>\n",
       "      <td>SEA</td>\n",
       "      <td>2145</td>\n",
       "      <td>...</td>\n",
       "      <td>2334.0</td>\n",
       "      <td>-10.0</td>\n",
       "      <td>0</td>\n",
       "      <td>0</td>\n",
       "      <td>NaN</td>\n",
       "      <td>NaN</td>\n",
       "      <td>NaN</td>\n",
       "      <td>NaN</td>\n",
       "      <td>NaN</td>\n",
       "      <td>NaN</td>\n",
       "    </tr>\n",
       "    <tr>\n",
       "      <th>2385440</th>\n",
       "      <td>2015</td>\n",
       "      <td>5</td>\n",
       "      <td>31</td>\n",
       "      <td>7</td>\n",
       "      <td>UA</td>\n",
       "      <td>1534</td>\n",
       "      <td>N69838</td>\n",
       "      <td>SFO</td>\n",
       "      <td>SEA</td>\n",
       "      <td>2245</td>\n",
       "      <td>...</td>\n",
       "      <td>400.0</td>\n",
       "      <td>185.0</td>\n",
       "      <td>0</td>\n",
       "      <td>0</td>\n",
       "      <td>NaN</td>\n",
       "      <td>0.0</td>\n",
       "      <td>0.0</td>\n",
       "      <td>0.0</td>\n",
       "      <td>185.0</td>\n",
       "      <td>0.0</td>\n",
       "    </tr>\n",
       "  </tbody>\n",
       "</table>\n",
       "<p>674 rows × 31 columns</p>\n",
       "</div>"
      ],
      "text/plain": [
       "         YEAR  MONTH  DAY  DAY_OF_WEEK AIRLINE  FLIGHT_NUMBER TAIL_NUMBER  \\\n",
       "1889439  2015      5    1            5      UA            273      N813UA   \n",
       "1890316  2015      5    1            5      AS            313      N799AS   \n",
       "1890814  2015      5    1            5      UA            278      N496UA   \n",
       "1891034  2015      5    1            5      VX            740      N529VA   \n",
       "1891540  2015      5    1            5      UA           1059      N76529   \n",
       "...       ...    ...  ...          ...     ...            ...         ...   \n",
       "2384278  2015      5   31            7      UA           1637      N38446   \n",
       "2384346  2015      5   31            7      VX            752      N625VA   \n",
       "2384847  2015      5   31            7      UA           1167      N14231   \n",
       "2384912  2015      5   31            7      AS            317      N546AS   \n",
       "2385440  2015      5   31            7      UA           1534      N69838   \n",
       "\n",
       "        ORIGIN_AIRPORT DESTINATION_AIRPORT  SCHEDULED_DEPARTURE  ...  \\\n",
       "1889439            SFO                 SEA                  605  ...   \n",
       "1890316            SFO                 SEA                  700  ...   \n",
       "1890814            SFO                 SEA                  720  ...   \n",
       "1891034            SFO                 SEA                  730  ...   \n",
       "1891540            SFO                 SEA                  800  ...   \n",
       "...                ...                 ...                  ...  ...   \n",
       "2384278            SFO                 SEA                 2035  ...   \n",
       "2384346            SFO                 SEA                 2045  ...   \n",
       "2384847            SFO                 SEA                 2135  ...   \n",
       "2384912            SFO                 SEA                 2145  ...   \n",
       "2385440            SFO                 SEA                 2245  ...   \n",
       "\n",
       "         ARRIVAL_TIME  ARRIVAL_DELAY  DIVERTED  CANCELLED  \\\n",
       "1889439         801.0          -15.0         0          0   \n",
       "1890316         846.0          -19.0         0          0   \n",
       "1890814         909.0          -21.0         0          0   \n",
       "1891034         914.0          -16.0         0          0   \n",
       "1891540         947.0          -21.0         0          0   \n",
       "...               ...            ...       ...        ...   \n",
       "2384278          31.0          106.0         0          0   \n",
       "2384346        2233.0          -12.0         0          0   \n",
       "2384847        2322.0          -19.0         0          0   \n",
       "2384912        2334.0          -10.0         0          0   \n",
       "2385440         400.0          185.0         0          0   \n",
       "\n",
       "         CANCELLATION_REASON  AIR_SYSTEM_DELAY  SECURITY_DELAY  AIRLINE_DELAY  \\\n",
       "1889439                  NaN               NaN             NaN            NaN   \n",
       "1890316                  NaN               NaN             NaN            NaN   \n",
       "1890814                  NaN               NaN             NaN            NaN   \n",
       "1891034                  NaN               NaN             NaN            NaN   \n",
       "1891540                  NaN               NaN             NaN            NaN   \n",
       "...                      ...               ...             ...            ...   \n",
       "2384278                  NaN               0.0             0.0           52.0   \n",
       "2384346                  NaN               NaN             NaN            NaN   \n",
       "2384847                  NaN               NaN             NaN            NaN   \n",
       "2384912                  NaN               NaN             NaN            NaN   \n",
       "2385440                  NaN               0.0             0.0            0.0   \n",
       "\n",
       "         LATE_AIRCRAFT_DELAY  WEATHER_DELAY  \n",
       "1889439                  NaN            NaN  \n",
       "1890316                  NaN            NaN  \n",
       "1890814                  NaN            NaN  \n",
       "1891034                  NaN            NaN  \n",
       "1891540                  NaN            NaN  \n",
       "...                      ...            ...  \n",
       "2384278                 54.0            0.0  \n",
       "2384346                  NaN            NaN  \n",
       "2384847                  NaN            NaN  \n",
       "2384912                  NaN            NaN  \n",
       "2385440                185.0            0.0  \n",
       "\n",
       "[674 rows x 31 columns]"
      ]
     },
     "execution_count": 22,
     "metadata": {},
     "output_type": "execute_result"
    }
   ],
   "source": [
    "%%time\n",
    "df = pd.read_csv('../datos/flights.csv')\n",
    "df = df[(df['MONTH'] == 5) & \n",
    "        (df['ORIGIN_AIRPORT'] == 'SFO') &\n",
    "        (df['DESTINATION_AIRPORT'] == 'SEA')]\n",
    "df"
   ]
  },
  {
   "cell_type": "markdown",
   "id": "63573042-a32d-4308-a06f-2d1548cc078a",
   "metadata": {},
   "source": [
    "Este proceso es ineficiente dado que se debe cargar el archivo CSV completo en memoria sólo para filtrar las filas con las que necesitamos trabajar. En Polars existe una forma mucho más eficiente para cargar un dataframe conocida como lazy evaluation. \n",
    "\n",
    "Hay dos tipos de lazy evaluation:\n",
    "\n",
    "* **Implicit lazy evaluation** (se usan funciones que inherentemente soportan lazy evaluation, como <code>scan_csv()</code>).\n",
    "* **Explicit lazy evaluation** (se usan funciones que **no** soportan lazy evaluation, como <code>read_csv()</code>, y se desea hacer uso explícito de estas)\n",
    "\n"
   ]
  },
  {
   "cell_type": "markdown",
   "id": "efd517df-deb4-4e63-a5f9-2b1d52bcd6fe",
   "metadata": {},
   "source": [
    "## Implicit Lazy Evaluation\n",
    "\n",
    "En lugar de utilizar la función <code>read_csv()</code> (que también funciona en Polars), usaremos la función <code>scan_csv()</code> \n"
   ]
  },
  {
   "cell_type": "code",
   "execution_count": 23,
   "id": "8accd8d9-58a1-4f77-b7c1-e02c6342f2fe",
   "metadata": {},
   "outputs": [
    {
     "data": {
      "text/plain": [
       "polars.lazyframe.frame.LazyFrame"
      ]
     },
     "execution_count": 23,
     "metadata": {},
     "output_type": "execute_result"
    }
   ],
   "source": [
    "import polars as pl\n",
    "\n",
    "q = pl.scan_csv(\"../datos/flights.csv\")\n",
    "\n",
    "type(q)"
   ]
  },
  {
   "cell_type": "markdown",
   "id": "19efc364-cb3f-4e06-80e8-5ded3199b590",
   "metadata": {},
   "source": [
    "La función <code>scan_csv()</code> regresa un objeto de tipo <code>polars.lazyframe.frame.LazyFrame</code>, el cual es la representación de una consulta/gráfica de cómputo/cálculo sobre un <code>DataFrame</code>. Cuando usamos la función <code>scan_csv()</code> para cargar un archivo CSV, el contenido del CSV no será cargado inmediatamente. En su lugar, la ejecución se mantendrá en espera para futuras consultas con el objetivo de optimizar el conjunto completo de consultas antes de cargar el contenido completo del CSV."
   ]
  },
  {
   "cell_type": "markdown",
   "id": "d12b668e-90fb-4d3c-a514-f8949244d777",
   "metadata": {},
   "source": [
    "En caso contrario, al igual que en Pandas, podemos utilizar la función <code>read_csv()</code> para cargar el CSV en Polars:"
   ]
  },
  {
   "cell_type": "code",
   "execution_count": 24,
   "id": "4df8ca71-74b0-49f3-b122-a74869641e2b",
   "metadata": {},
   "outputs": [
    {
     "data": {
      "text/plain": [
       "polars.dataframe.frame.DataFrame"
      ]
     },
     "execution_count": 24,
     "metadata": {},
     "output_type": "execute_result"
    }
   ],
   "source": [
    "df = pl.read_csv('../datos/flights.csv')\n",
    "type(df)"
   ]
  },
  {
   "cell_type": "markdown",
   "id": "07e708b6-3d8c-41cd-be0a-c86cbb3593a2",
   "metadata": {},
   "source": [
    "La función <code>read_csv()</code> regresa un objeto <code>polars.dataframe.frame.DataFrame</code>, que es similar a un dataframe en Pandas.\n",
    "> La función <code>read_csv()</code> usa un modo de ejecución **eager**, lo que significa que inmediatamente carga el conjunto de datos completo en el dataframe antes de realizar alguna consulta."
   ]
  },
  {
   "cell_type": "markdown",
   "id": "736ab6de-9389-4a81-8ed1-8a3c99e09823",
   "metadata": {},
   "source": [
    "Una vez que obtenemos el objeto LazyFrame, podemos ejecutar consultas sobre este:"
   ]
  },
  {
   "cell_type": "code",
   "execution_count": 25,
   "id": "d3b8360c-9fec-4e95-b018-759f00d45c65",
   "metadata": {},
   "outputs": [],
   "source": [
    "q = pl.scan_csv('../datos/flights.csv')\n",
    "q = q.select(['MONTH', 'ORIGIN_AIRPORT','DESTINATION_AIRPORT'])\n",
    "q = q.filter(\n",
    "    (pl.col('MONTH') == 5) & \n",
    "    (pl.col('ORIGIN_AIRPORT') == 'SFO') &\n",
    "    (pl.col('DESTINATION_AIRPORT') == 'SEA'))"
   ]
  },
  {
   "cell_type": "markdown",
   "id": "c8f5aa7f-ae3c-481e-9feb-93ed97b6e601",
   "metadata": {},
   "source": [
    "> Nota que los métodos <code>filter()</code> y <code>select()</code> funcionan igual en DataFrames y en objetos LazyFrame."
   ]
  },
  {
   "cell_type": "markdown",
   "id": "1d62bcc1-af9b-44e3-a543-8f94930d3021",
   "metadata": {},
   "source": [
    "Para mejorar la lectura, se recomienda usar paréntesis para encadenar los métodos utilizados de la siguiente manera:"
   ]
  },
  {
   "cell_type": "code",
   "execution_count": 26,
   "id": "34706d10-4939-44af-843e-4e0c6b9a9967",
   "metadata": {},
   "outputs": [],
   "source": [
    "q = (\n",
    "    pl.scan_csv('../datos/flights.csv')\n",
    "    .select(['MONTH', 'ORIGIN_AIRPORT','DESTINATION_AIRPORT'])\n",
    "    .filter(\n",
    "        (pl.col('MONTH') == 5) & \n",
    "        (pl.col('ORIGIN_AIRPORT') == 'SFO') &\n",
    "        (pl.col('DESTINATION_AIRPORT') == 'SEA'))\n",
    ")\n"
   ]
  },
  {
   "cell_type": "markdown",
   "id": "cc862e1b-dbca-4671-ade2-987a9b140871",
   "metadata": {},
   "source": [
    "Podemos llamar al método <code>show_graph()</code> para mostrar la gráfica de ejecución:"
   ]
  },
  {
   "cell_type": "code",
   "execution_count": 27,
   "id": "c1f250bd-33e7-4858-8f54-2c01dfad7bf1",
   "metadata": {},
   "outputs": [
    {
     "data": {
      "image/svg+xml": [
       "<svg xmlns=\"http://www.w3.org/2000/svg\" xmlns:xlink=\"http://www.w3.org/1999/xlink\" width=\"1016pt\" height=\"61pt\" viewBox=\"0.00 0.00 1016.00 61.00\">\n",
       "<g id=\"graph0\" class=\"graph\" transform=\"scale(1 1) rotate(0) translate(4 57)\">\n",
       "<title>polars_query</title>\n",
       "<polygon fill=\"white\" stroke=\"transparent\" points=\"-4,4 -4,-57 1012,-57 1012,4 -4,4\"/>\n",
       "<!-- p1 -->\n",
       "<g id=\"node1\" class=\"node\">\n",
       "<title>p1</title>\n",
       "<polygon fill=\"none\" stroke=\"black\" points=\"1008,-53 0,-53 0,0 1008,0 1008,-53\"/>\n",
       "<text text-anchor=\"middle\" x=\"504\" y=\"-37.8\" font-family=\"Times,serif\" font-size=\"14.00\">Csv SCAN [../datos/flights.csv]</text>\n",
       "<text text-anchor=\"middle\" x=\"504\" y=\"-22.8\" font-family=\"Times,serif\" font-size=\"14.00\">π 3/31;</text>\n",
       "<text text-anchor=\"middle\" x=\"504\" y=\"-7.8\" font-family=\"Times,serif\" font-size=\"14.00\">σ [([([(col(&quot;MONTH&quot;)) == (5)]) &amp; ([(col(&quot;ORIGIN_AIRPORT&quot;)) == (String(SFO))])]) &amp; ([(col(&quot;DESTINATION_AIRPORT&quot;)) == (String(SEA))])]</text>\n",
       "</g>\n",
       "</g>\n",
       "</svg>"
      ],
      "text/plain": [
       "<IPython.core.display.SVG object>"
      ]
     },
     "metadata": {},
     "output_type": "display_data"
    }
   ],
   "source": [
    "q.show_graph(optimized=True)\n"
   ]
  },
  {
   "cell_type": "markdown",
   "id": "edb8e471-0c4f-4764-9a32-63106b49ec5f",
   "metadata": {},
   "source": [
    "En contraste, si llamamos al método <code>show_graph()</code> con el argumento <code>optimized</code> definido como <code>False</code>, obtenemos que se realiza un escaneo del archivo CSV, se cargan las 31 columnas, y sólo entonces se realiza la operación de filtrado."
   ]
  },
  {
   "cell_type": "code",
   "execution_count": 28,
   "id": "c2cb094d-574b-4a27-9b3a-75c16ce4703b",
   "metadata": {},
   "outputs": [
    {
     "data": {
      "image/svg+xml": [
       "<svg xmlns=\"http://www.w3.org/2000/svg\" xmlns:xlink=\"http://www.w3.org/1999/xlink\" width=\"477pt\" height=\"334pt\" viewBox=\"0.00 0.00 477.00 334.00\">\n",
       "<g id=\"graph0\" class=\"graph\" transform=\"scale(1 1) rotate(0) translate(4 330)\">\n",
       "<title>polars_query</title>\n",
       "<polygon fill=\"white\" stroke=\"transparent\" points=\"-4,4 -4,-330 473,-330 473,4 -4,4\"/>\n",
       "<!-- p1 -->\n",
       "<g id=\"node1\" class=\"node\">\n",
       "<title>p1</title>\n",
       "<polygon fill=\"none\" stroke=\"black\" points=\"371.5,-326 97.5,-326 97.5,-290 371.5,-290 371.5,-326\"/>\n",
       "<text text-anchor=\"middle\" x=\"234.5\" y=\"-304.3\" font-family=\"Times,serif\" font-size=\"14.00\">FILTER BY [(col(&quot;MONTH&quot;)) == (5)]</text>\n",
       "</g>\n",
       "<!-- p2 -->\n",
       "<g id=\"node2\" class=\"node\">\n",
       "<title>p2</title>\n",
       "<polygon fill=\"none\" stroke=\"black\" points=\"445,-254 24,-254 24,-218 445,-218 445,-254\"/>\n",
       "<text text-anchor=\"middle\" x=\"234.5\" y=\"-232.3\" font-family=\"Times,serif\" font-size=\"14.00\">FILTER BY [(col(&quot;ORIGIN_AIRPORT&quot;)) == (String(SFO))]</text>\n",
       "</g>\n",
       "<!-- p1&#45;&#45;p2 -->\n",
       "<g id=\"edge1\" class=\"edge\">\n",
       "<title>p1--p2</title>\n",
       "<path fill=\"none\" stroke=\"black\" d=\"M234.5,-289.7C234.5,-278.85 234.5,-264.92 234.5,-254.1\"/>\n",
       "</g>\n",
       "<!-- p3 -->\n",
       "<g id=\"node3\" class=\"node\">\n",
       "<title>p3</title>\n",
       "<polygon fill=\"none\" stroke=\"black\" points=\"469,-182 0,-182 0,-146 469,-146 469,-182\"/>\n",
       "<text text-anchor=\"middle\" x=\"234.5\" y=\"-160.3\" font-family=\"Times,serif\" font-size=\"14.00\">FILTER BY [(col(&quot;DESTINATION_AIRPORT&quot;)) == (String(SEA))]</text>\n",
       "</g>\n",
       "<!-- p2&#45;&#45;p3 -->\n",
       "<g id=\"edge2\" class=\"edge\">\n",
       "<title>p2--p3</title>\n",
       "<path fill=\"none\" stroke=\"black\" d=\"M234.5,-217.7C234.5,-206.85 234.5,-192.92 234.5,-182.1\"/>\n",
       "</g>\n",
       "<!-- p4 -->\n",
       "<g id=\"node4\" class=\"node\">\n",
       "<title>p4</title>\n",
       "<polygon fill=\"none\" stroke=\"black\" points=\"261.5,-110 207.5,-110 207.5,-74 261.5,-74 261.5,-110\"/>\n",
       "<text text-anchor=\"middle\" x=\"234.5\" y=\"-88.3\" font-family=\"Times,serif\" font-size=\"14.00\">π 3/3</text>\n",
       "</g>\n",
       "<!-- p3&#45;&#45;p4 -->\n",
       "<g id=\"edge3\" class=\"edge\">\n",
       "<title>p3--p4</title>\n",
       "<path fill=\"none\" stroke=\"black\" d=\"M234.5,-145.7C234.5,-134.85 234.5,-120.92 234.5,-110.1\"/>\n",
       "</g>\n",
       "<!-- p5 -->\n",
       "<g id=\"node5\" class=\"node\">\n",
       "<title>p5</title>\n",
       "<polygon fill=\"none\" stroke=\"black\" points=\"351.5,-38 117.5,-38 117.5,0 351.5,0 351.5,-38\"/>\n",
       "<text text-anchor=\"middle\" x=\"234.5\" y=\"-22.8\" font-family=\"Times,serif\" font-size=\"14.00\">Csv SCAN [../datos/flights.csv]</text>\n",
       "<text text-anchor=\"middle\" x=\"234.5\" y=\"-7.8\" font-family=\"Times,serif\" font-size=\"14.00\">π */31;</text>\n",
       "</g>\n",
       "<!-- p4&#45;&#45;p5 -->\n",
       "<g id=\"edge4\" class=\"edge\">\n",
       "<title>p4--p5</title>\n",
       "<path fill=\"none\" stroke=\"black\" d=\"M234.5,-73.81C234.5,-62.98 234.5,-49.01 234.5,-38.02\"/>\n",
       "</g>\n",
       "</g>\n",
       "</svg>"
      ],
      "text/plain": [
       "<IPython.core.display.SVG object>"
      ]
     },
     "metadata": {},
     "output_type": "display_data"
    }
   ],
   "source": [
    "q.show_graph(optimized=False)"
   ]
  },
  {
   "cell_type": "markdown",
   "id": "1d4cf2dc-b6c9-4f6d-a06a-93a84eef73ce",
   "metadata": {},
   "source": [
    "Para ejecutar las consultas, llamamos al método <code>collect()</code>, el cual regresa el resultado de las consultas en un <code>DataFrame</code> de Polars"
   ]
  },
  {
   "cell_type": "code",
   "execution_count": 29,
   "id": "34ee5149-3fc7-4d81-a47f-a0109eb9a0c2",
   "metadata": {},
   "outputs": [
    {
     "data": {
      "text/html": [
       "<div><style>\n",
       ".dataframe > thead > tr,\n",
       ".dataframe > tbody > tr {\n",
       "  text-align: right;\n",
       "  white-space: pre-wrap;\n",
       "}\n",
       "</style>\n",
       "<small>shape: (674, 3)</small><table border=\"1\" class=\"dataframe\"><thead><tr><th>MONTH</th><th>ORIGIN_AIRPORT</th><th>DESTINATION_AIRPORT</th></tr><tr><td>i64</td><td>str</td><td>str</td></tr></thead><tbody><tr><td>5</td><td>&quot;SFO&quot;</td><td>&quot;SEA&quot;</td></tr><tr><td>5</td><td>&quot;SFO&quot;</td><td>&quot;SEA&quot;</td></tr><tr><td>5</td><td>&quot;SFO&quot;</td><td>&quot;SEA&quot;</td></tr><tr><td>5</td><td>&quot;SFO&quot;</td><td>&quot;SEA&quot;</td></tr><tr><td>5</td><td>&quot;SFO&quot;</td><td>&quot;SEA&quot;</td></tr><tr><td>&hellip;</td><td>&hellip;</td><td>&hellip;</td></tr><tr><td>5</td><td>&quot;SFO&quot;</td><td>&quot;SEA&quot;</td></tr><tr><td>5</td><td>&quot;SFO&quot;</td><td>&quot;SEA&quot;</td></tr><tr><td>5</td><td>&quot;SFO&quot;</td><td>&quot;SEA&quot;</td></tr><tr><td>5</td><td>&quot;SFO&quot;</td><td>&quot;SEA&quot;</td></tr><tr><td>5</td><td>&quot;SFO&quot;</td><td>&quot;SEA&quot;</td></tr></tbody></table></div>"
      ],
      "text/plain": [
       "shape: (674, 3)\n",
       "┌───────┬────────────────┬─────────────────────┐\n",
       "│ MONTH ┆ ORIGIN_AIRPORT ┆ DESTINATION_AIRPORT │\n",
       "│ ---   ┆ ---            ┆ ---                 │\n",
       "│ i64   ┆ str            ┆ str                 │\n",
       "╞═══════╪════════════════╪═════════════════════╡\n",
       "│ 5     ┆ SFO            ┆ SEA                 │\n",
       "│ 5     ┆ SFO            ┆ SEA                 │\n",
       "│ 5     ┆ SFO            ┆ SEA                 │\n",
       "│ 5     ┆ SFO            ┆ SEA                 │\n",
       "│ 5     ┆ SFO            ┆ SEA                 │\n",
       "│ …     ┆ …              ┆ …                   │\n",
       "│ 5     ┆ SFO            ┆ SEA                 │\n",
       "│ 5     ┆ SFO            ┆ SEA                 │\n",
       "│ 5     ┆ SFO            ┆ SEA                 │\n",
       "│ 5     ┆ SFO            ┆ SEA                 │\n",
       "│ 5     ┆ SFO            ┆ SEA                 │\n",
       "└───────┴────────────────┴─────────────────────┘"
      ]
     },
     "execution_count": 29,
     "metadata": {},
     "output_type": "execute_result"
    }
   ],
   "source": [
    "q.collect()"
   ]
  },
  {
   "cell_type": "markdown",
   "id": "4fbdde79-0e83-44e0-bfdf-249014b0bbfd",
   "metadata": {},
   "source": [
    "## Explicit Lazy Evaluation\n",
    "\n",
    "Cuando usamos la función <code>read_csv()</code> para leer un archivo CSV, Polar usará una ejecución eager e inmediatamente cargará el dataframe. \n"
   ]
  },
  {
   "cell_type": "code",
   "execution_count": 30,
   "id": "1de5439c-cd9c-4a07-94f0-8fa9c37d3eff",
   "metadata": {},
   "outputs": [
    {
     "data": {
      "text/html": [
       "<div><style>\n",
       ".dataframe > thead > tr,\n",
       ".dataframe > tbody > tr {\n",
       "  text-align: right;\n",
       "  white-space: pre-wrap;\n",
       "}\n",
       "</style>\n",
       "<small>shape: (674, 3)</small><table border=\"1\" class=\"dataframe\"><thead><tr><th>MONTH</th><th>ORIGIN_AIRPORT</th><th>DESTINATION_AIRPORT</th></tr><tr><td>i64</td><td>str</td><td>str</td></tr></thead><tbody><tr><td>5</td><td>&quot;SFO&quot;</td><td>&quot;SEA&quot;</td></tr><tr><td>5</td><td>&quot;SFO&quot;</td><td>&quot;SEA&quot;</td></tr><tr><td>5</td><td>&quot;SFO&quot;</td><td>&quot;SEA&quot;</td></tr><tr><td>5</td><td>&quot;SFO&quot;</td><td>&quot;SEA&quot;</td></tr><tr><td>5</td><td>&quot;SFO&quot;</td><td>&quot;SEA&quot;</td></tr><tr><td>&hellip;</td><td>&hellip;</td><td>&hellip;</td></tr><tr><td>5</td><td>&quot;SFO&quot;</td><td>&quot;SEA&quot;</td></tr><tr><td>5</td><td>&quot;SFO&quot;</td><td>&quot;SEA&quot;</td></tr><tr><td>5</td><td>&quot;SFO&quot;</td><td>&quot;SEA&quot;</td></tr><tr><td>5</td><td>&quot;SFO&quot;</td><td>&quot;SEA&quot;</td></tr><tr><td>5</td><td>&quot;SFO&quot;</td><td>&quot;SEA&quot;</td></tr></tbody></table></div>"
      ],
      "text/plain": [
       "shape: (674, 3)\n",
       "┌───────┬────────────────┬─────────────────────┐\n",
       "│ MONTH ┆ ORIGIN_AIRPORT ┆ DESTINATION_AIRPORT │\n",
       "│ ---   ┆ ---            ┆ ---                 │\n",
       "│ i64   ┆ str            ┆ str                 │\n",
       "╞═══════╪════════════════╪═════════════════════╡\n",
       "│ 5     ┆ SFO            ┆ SEA                 │\n",
       "│ 5     ┆ SFO            ┆ SEA                 │\n",
       "│ 5     ┆ SFO            ┆ SEA                 │\n",
       "│ 5     ┆ SFO            ┆ SEA                 │\n",
       "│ 5     ┆ SFO            ┆ SEA                 │\n",
       "│ …     ┆ …              ┆ …                   │\n",
       "│ 5     ┆ SFO            ┆ SEA                 │\n",
       "│ 5     ┆ SFO            ┆ SEA                 │\n",
       "│ 5     ┆ SFO            ┆ SEA                 │\n",
       "│ 5     ┆ SFO            ┆ SEA                 │\n",
       "│ 5     ┆ SFO            ┆ SEA                 │\n",
       "└───────┴────────────────┴─────────────────────┘"
      ]
     },
     "execution_count": 30,
     "metadata": {},
     "output_type": "execute_result"
    }
   ],
   "source": [
    "df = (\n",
    "    pl.read_csv('../datos/flights.csv')\n",
    "    .select(['MONTH', 'ORIGIN_AIRPORT','DESTINATION_AIRPORT'])\n",
    "    .filter(\n",
    "        (pl.col('MONTH') == 5) & \n",
    "        (pl.col('ORIGIN_AIRPORT') == 'SFO') &\n",
    "        (pl.col('DESTINATION_AIRPORT') == 'SEA'))\n",
    "    )\n",
    "df"
   ]
  },
  {
   "cell_type": "markdown",
   "id": "6fc5e5e6-f347-4401-bd74-454a891a5209",
   "metadata": {},
   "source": [
    "Después de cargar el archivo CSV, se realiza la selección de columnas seguido del filtrado de filas. Todas estas consultas son ejecutadas de forma secuencial una después de otra. Esto dado que <code>read_csv()</code> no utiliza de forma implícita lazy evaluation.\n",
    "\n",
    "Para asegurar que todas las consultas subsecuentes a la carga del CSV sean optimizadas, podemos hacer explícito el uso de lazy evaluation al utilizar el método <code>lazy()</code> inmediatamente después de la función <code>read_csv()</code>."
   ]
  },
  {
   "cell_type": "code",
   "execution_count": 31,
   "id": "9c60246f-0ec1-48c3-bad9-01b50b189a54",
   "metadata": {},
   "outputs": [
    {
     "data": {
      "text/html": [
       "<div><style>\n",
       ".dataframe > thead > tr,\n",
       ".dataframe > tbody > tr {\n",
       "  text-align: right;\n",
       "  white-space: pre-wrap;\n",
       "}\n",
       "</style>\n",
       "<small>shape: (674, 3)</small><table border=\"1\" class=\"dataframe\"><thead><tr><th>MONTH</th><th>ORIGIN_AIRPORT</th><th>DESTINATION_AIRPORT</th></tr><tr><td>i64</td><td>str</td><td>str</td></tr></thead><tbody><tr><td>5</td><td>&quot;SFO&quot;</td><td>&quot;SEA&quot;</td></tr><tr><td>5</td><td>&quot;SFO&quot;</td><td>&quot;SEA&quot;</td></tr><tr><td>5</td><td>&quot;SFO&quot;</td><td>&quot;SEA&quot;</td></tr><tr><td>5</td><td>&quot;SFO&quot;</td><td>&quot;SEA&quot;</td></tr><tr><td>5</td><td>&quot;SFO&quot;</td><td>&quot;SEA&quot;</td></tr><tr><td>&hellip;</td><td>&hellip;</td><td>&hellip;</td></tr><tr><td>5</td><td>&quot;SFO&quot;</td><td>&quot;SEA&quot;</td></tr><tr><td>5</td><td>&quot;SFO&quot;</td><td>&quot;SEA&quot;</td></tr><tr><td>5</td><td>&quot;SFO&quot;</td><td>&quot;SEA&quot;</td></tr><tr><td>5</td><td>&quot;SFO&quot;</td><td>&quot;SEA&quot;</td></tr><tr><td>5</td><td>&quot;SFO&quot;</td><td>&quot;SEA&quot;</td></tr></tbody></table></div>"
      ],
      "text/plain": [
       "shape: (674, 3)\n",
       "┌───────┬────────────────┬─────────────────────┐\n",
       "│ MONTH ┆ ORIGIN_AIRPORT ┆ DESTINATION_AIRPORT │\n",
       "│ ---   ┆ ---            ┆ ---                 │\n",
       "│ i64   ┆ str            ┆ str                 │\n",
       "╞═══════╪════════════════╪═════════════════════╡\n",
       "│ 5     ┆ SFO            ┆ SEA                 │\n",
       "│ 5     ┆ SFO            ┆ SEA                 │\n",
       "│ 5     ┆ SFO            ┆ SEA                 │\n",
       "│ 5     ┆ SFO            ┆ SEA                 │\n",
       "│ 5     ┆ SFO            ┆ SEA                 │\n",
       "│ …     ┆ …              ┆ …                   │\n",
       "│ 5     ┆ SFO            ┆ SEA                 │\n",
       "│ 5     ┆ SFO            ┆ SEA                 │\n",
       "│ 5     ┆ SFO            ┆ SEA                 │\n",
       "│ 5     ┆ SFO            ┆ SEA                 │\n",
       "│ 5     ┆ SFO            ┆ SEA                 │\n",
       "└───────┴────────────────┴─────────────────────┘"
      ]
     },
     "metadata": {},
     "output_type": "display_data"
    }
   ],
   "source": [
    "q = (\n",
    "    pl.read_csv('../datos/flights.csv')\n",
    "    .lazy()\n",
    "    .select(['MONTH', 'ORIGIN_AIRPORT','DESTINATION_AIRPORT'])\n",
    "    .filter(\n",
    "        (pl.col('MONTH') == 5) & \n",
    "        (pl.col('ORIGIN_AIRPORT') == 'SFO') &\n",
    "        (pl.col('DESTINATION_AIRPORT') == 'SEA'))\n",
    "    )\n",
    "df = q.collect()\n",
    "display(df)"
   ]
  },
  {
   "cell_type": "markdown",
   "id": "1340c550-40b1-4db1-ab38-6a6e8ede94c3",
   "metadata": {},
   "source": [
    "La función <code>lazy()</code> regresa un objeto <code>LazyFrame</code> con el que podemos encadenar consultas posteriores usando métodos como <code>select()</code>, <code>filter()</code>, entre otros. Estos métodos serán optimizados ahora optimizados antes de su ejecución."
   ]
  },
  {
   "cell_type": "markdown",
   "id": "b9d7bf6e",
   "metadata": {},
   "source": [
    "## Referencias \n",
    "* Python Polars: The Definitive Guide\n",
    "* DuckDB : Up and Running"
   ]
  }
 ],
 "metadata": {
  "kernelspec": {
   "display_name": "Python 3 (ipykernel)",
   "language": "python",
   "name": "python3"
  },
  "language_info": {
   "codemirror_mode": {
    "name": "ipython",
    "version": 3
   },
   "file_extension": ".py",
   "mimetype": "text/x-python",
   "name": "python",
   "nbconvert_exporter": "python",
   "pygments_lexer": "ipython3",
   "version": "3.11.5"
  }
 },
 "nbformat": 4,
 "nbformat_minor": 5
}
